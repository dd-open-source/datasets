{
  "cells": [
    {
      "cell_type": "markdown",
      "id": "4137e6e7",
      "metadata": {
        "id": "4137e6e7"
      },
      "source": [
        "<a href=\"https://colab.research.google.com/github/dd-open-source/ml-projects/blob/main/transfer_learning/Ships/Ship_classification_using_transfer_learning_V2.ipynb\" target=\"_parent\"><img src=\"https://colab.research.google.com/assets/colab-badge.svg\" alt=\"Open In Colab\"/></a>"
      ]
    },
    {
      "cell_type": "markdown",
      "id": "ad2550d9",
      "metadata": {
        "id": "ad2550d9"
      },
      "source": [
        "This is our solution for [Analytics Vidhya Hackathon](https://datahack.analyticsvidhya.com/contest/game-of-deep-learning/) using pickle to store all images as single file. This reduced training time from 20 mins to 20 seconds."
      ]
    },
    {
      "cell_type": "code",
      "execution_count": 1,
      "id": "KUXK8UUbFB-0",
      "metadata": {
        "colab": {
          "base_uri": "https://localhost:8080/"
        },
        "id": "KUXK8UUbFB-0",
        "outputId": "bb5d5423-c379-4f84-d51b-c59d72f765ba"
      },
      "outputs": [
        {
          "output_type": "stream",
          "name": "stdout",
          "text": [
            "Mounted at /content/drive\n"
          ]
        }
      ],
      "source": [
        "# Comment this if you are not running in colab\n",
        "from google.colab import drive\n",
        "drive.mount('/content/drive', force_remount=True)"
      ]
    },
    {
      "cell_type": "markdown",
      "id": "ed90508d-fc4b-49bb-a2a6-6bdb6e8f1f7d",
      "metadata": {
        "id": "ed90508d-fc4b-49bb-a2a6-6bdb6e8f1f7d"
      },
      "source": [
        "### Import Modules"
      ]
    },
    {
      "cell_type": "code",
      "execution_count": 56,
      "id": "83f2a0ad-05e3-41b9-b988-c7b4ca1ac58d",
      "metadata": {
        "id": "83f2a0ad-05e3-41b9-b988-c7b4ca1ac58d"
      },
      "outputs": [],
      "source": [
        "import pandas as pd\n",
        "import numpy as np\n",
        "import matplotlib.pyplot as plt\n",
        "from PIL import Image\n",
        "from os import path, listdir\n",
        "import tensorflow as tf\n",
        "from tensorflow.keras.models import Sequential\n",
        "from tensorflow.keras import layers\n",
        "from tensorflow.keras.applications import resnet_v2\n",
        "from tensorflow.keras.preprocessing.image import ImageDataGenerator\n",
        "from sklearn.model_selection import train_test_split\n",
        "from google.colab import files\n",
        "import pickle\n",
        "import io\n"
      ]
    },
    {
      "cell_type": "markdown",
      "id": "8a0cbc01-1eeb-4513-862a-abd3acd1d239",
      "metadata": {
        "id": "8a0cbc01-1eeb-4513-862a-abd3acd1d239"
      },
      "source": [
        "### Defines reusable constants"
      ]
    },
    {
      "cell_type": "code",
      "execution_count": 3,
      "id": "18f79ffb-291a-4d83-a0d0-3395220a0a5a",
      "metadata": {
        "id": "18f79ffb-291a-4d83-a0d0-3395220a0a5a"
      },
      "outputs": [],
      "source": [
        "# Data files: \n",
        "# Google drive: https://drive.google.com/file/d/1x5XrLOEhiwNO_hJLMFbfdrPQDEymki5z/view\n",
        "# Download the above data files from our google drive \n",
        "# to your google drive or local computer and update the below paths accordingly\n",
        "\n",
        "project_folder = '/content/drive/MyDrive/ML_Projects/Ships'\n",
        "data_dir = path.join(project_folder, 'data')\n",
        "models_path =path.join(project_folder, 'models')\n",
        "models_dir = path.join(models_path, \"base\")\n",
        "train_csv_path = path.join(data_dir, 'train.csv')\n",
        "test_csv_path = path.join(data_dir, 'test.csv')\n",
        "label_col = 'category_name'\n",
        "category_id_col = \"category\"\n",
        "image_names_col = 'image'\n",
        "image_idx_col = 'image_idx'\n",
        "images_dir = path.join(data_dir, \"images\")\n",
        "imgy = imgx = 128\n",
        "submission_csv_path = path.join(data_dir, 'submission.csv')\n",
        "categories_name_to_id = {'Cargo': 1,  'Military': 2,  'Carrier': 3, 'Cruise': 4, 'Tankers': 5}\n",
        "categories_id_to_name = { value:key for key,value in categories_name_to_id.items()}\n",
        "images_dump_path = path.join(data_dir, 'images.pkl')"
      ]
    },
    {
      "cell_type": "markdown",
      "id": "u99lkGs6bPcS",
      "metadata": {
        "id": "u99lkGs6bPcS"
      },
      "source": [
        "Define common functions"
      ]
    },
    {
      "cell_type": "code",
      "execution_count": 57,
      "id": "71b0f60f-e709-4932-958f-e90f930771ed",
      "metadata": {
        "id": "71b0f60f-e709-4932-958f-e90f930771ed"
      },
      "outputs": [],
      "source": [
        "from keras_preprocessing.image import dataframe_iterator\n",
        "def get_image_id(img_name):\n",
        "    return int(img_name[:-4])\n",
        "\n",
        "def get_image(img_name, images_dump=None, images_name_to_id=None):\n",
        "    if images_dump is not None and images_name_to_id is not None:\n",
        "      img_path = io.BytesIO(images_dump[images_name_to_id[img_name]])\n",
        "    else:\n",
        "      img_path = path.join(images_dir, img_name)\n",
        "    return Image.open(img_path)\n",
        "\n",
        "# Shows a randomly selected images from data\n",
        "def showImages(df, n=1, images_dump=None, images_name_to_id=None):\n",
        "    cols = 5\n",
        "    rows = max(1, n//cols)\n",
        "    sample = df.sample(n=n).reset_index(drop=True)\n",
        "    for idx, row in sample.iterrows():\n",
        "      img = get_image(row[image_names_col], images_dump, images_name_to_id)\n",
        "      plt.subplot(rows, cols, idx+1)\n",
        "      plt.title(row[label_col])\n",
        "      plt.imshow(img)\n",
        "    plt.figure(figsize=(10, 20))\n",
        "    plt.show()\n",
        "\n",
        "\n",
        "def get_file_bytes(parenet_dir, file_name):\n",
        "  with open(path.join(parenet_dir, file_name), 'rb') as f:\n",
        "    return f.read()\n",
        "\n",
        "def dump_files_as_pickle(parent_dir, dump_file_path):\n",
        "  if path.exists(dump_file_path):\n",
        "    print(\"Dump file exists so skipping\")\n",
        "    return\n",
        "  file_names = listdir(parent_dir)\n",
        "  files_dump = []\n",
        "  for file_name in file_names:\n",
        "    files_dump.append(get_file_bytes(parent_dir, file_name))\n",
        "\n",
        "  files_dict = {\"parent_dir\": parent_dir, \"file_names\": file_names, \"files_dump\": files_dump}\n",
        "  with open(dump_file_path, 'wb') as fh:\n",
        "    pickle.dump(files_dict, fh)\n",
        "\n",
        "def create_images_dataset(images_tensor, df):\n",
        "  def extract_image(img_idx):\n",
        "    image_string = images_tensor[img_idx]\n",
        "    img = tf.image.decode_jpeg(image_string, channels=3)\n",
        "    return tf.image.resize(img, [imgy, imgx], antialias=True)\n",
        "  ds = tf.data.Dataset.from_tensor_slices(df[image_idx_col])\n",
        "  return ds.map(extract_image).prefetch(tf.data.AUTOTUNE)\n",
        "\n",
        "def create_labels_dataset(df):\n",
        "  one_hot_tensor = tf.one_hot(tf.range(5), 5)\n",
        "  def convert_label_to_one_hot_tensor(label):\n",
        "    # Our label index starts with 1\n",
        "    return one_hot_tensor[label-1]\n",
        "  label_ds = tf.data.Dataset.from_tensor_slices(df[category_id_col])\n",
        "  return  label_ds.map(convert_label_to_one_hot_tensor)\n",
        "\n",
        "def create_dataset_with_labels(images_tensor, df):\n",
        "  img_ds = create_images_dataset(images_tensor, df)\n",
        "  label_ds = create_labels_dataset(df)\n",
        "  return tf.data.Dataset.zip((img_ds, label_ds)).batch(32)"
      ]
    },
    {
      "cell_type": "code",
      "source": [
        "dump_files_as_pickle(images_dir, images_dump_path)"
      ],
      "metadata": {
        "colab": {
          "base_uri": "https://localhost:8080/"
        },
        "id": "rhxt9b2iHb3Y",
        "outputId": "df074110-ca06-4a1d-a02a-7c4a91eda69d"
      },
      "id": "rhxt9b2iHb3Y",
      "execution_count": 5,
      "outputs": [
        {
          "output_type": "stream",
          "name": "stdout",
          "text": [
            "Dump file exists so skipping\n"
          ]
        }
      ]
    },
    {
      "cell_type": "markdown",
      "id": "f252b070-3d27-46c2-ba53-19efb38a1225",
      "metadata": {
        "id": "f252b070-3d27-46c2-ba53-19efb38a1225"
      },
      "source": [
        "### Load data"
      ]
    },
    {
      "cell_type": "code",
      "execution_count": 6,
      "id": "16cf4fc2-4e03-43c1-a63a-a933a657d232",
      "metadata": {
        "id": "16cf4fc2-4e03-43c1-a63a-a933a657d232",
        "colab": {
          "base_uri": "https://localhost:8080/",
          "height": 241
        },
        "outputId": "efe6e384-0866-4600-b9d9-bfe8c2d4e626"
      },
      "outputs": [
        {
          "output_type": "stream",
          "name": "stdout",
          "text": [
            "images_dump keys dict_keys(['parent_dir', 'file_names', 'files_dump']) \n",
            "num image files 8932\n"
          ]
        },
        {
          "output_type": "execute_result",
          "data": {
            "text/html": [
              "<div>\n",
              "<style scoped>\n",
              "    .dataframe tbody tr th:only-of-type {\n",
              "        vertical-align: middle;\n",
              "    }\n",
              "\n",
              "    .dataframe tbody tr th {\n",
              "        vertical-align: top;\n",
              "    }\n",
              "\n",
              "    .dataframe thead th {\n",
              "        text-align: right;\n",
              "    }\n",
              "</style>\n",
              "<table border=\"1\" class=\"dataframe\">\n",
              "  <thead>\n",
              "    <tr style=\"text-align: right;\">\n",
              "      <th></th>\n",
              "      <th>image</th>\n",
              "      <th>category</th>\n",
              "      <th>category_name</th>\n",
              "      <th>image_idx</th>\n",
              "    </tr>\n",
              "  </thead>\n",
              "  <tbody>\n",
              "    <tr>\n",
              "      <th>0</th>\n",
              "      <td>2823080.jpg</td>\n",
              "      <td>1</td>\n",
              "      <td>Cargo</td>\n",
              "      <td>3735</td>\n",
              "    </tr>\n",
              "    <tr>\n",
              "      <th>1</th>\n",
              "      <td>2870024.jpg</td>\n",
              "      <td>1</td>\n",
              "      <td>Cargo</td>\n",
              "      <td>5246</td>\n",
              "    </tr>\n",
              "    <tr>\n",
              "      <th>2</th>\n",
              "      <td>2662125.jpg</td>\n",
              "      <td>2</td>\n",
              "      <td>Military</td>\n",
              "      <td>8426</td>\n",
              "    </tr>\n",
              "    <tr>\n",
              "      <th>3</th>\n",
              "      <td>2900420.jpg</td>\n",
              "      <td>3</td>\n",
              "      <td>Carrier</td>\n",
              "      <td>8637</td>\n",
              "    </tr>\n",
              "    <tr>\n",
              "      <th>4</th>\n",
              "      <td>2804883.jpg</td>\n",
              "      <td>2</td>\n",
              "      <td>Military</td>\n",
              "      <td>6320</td>\n",
              "    </tr>\n",
              "  </tbody>\n",
              "</table>\n",
              "</div>"
            ],
            "text/plain": [
              "         image  category category_name  image_idx\n",
              "0  2823080.jpg         1         Cargo       3735\n",
              "1  2870024.jpg         1         Cargo       5246\n",
              "2  2662125.jpg         2      Military       8426\n",
              "3  2900420.jpg         3       Carrier       8637\n",
              "4  2804883.jpg         2      Military       6320"
            ]
          },
          "metadata": {},
          "execution_count": 6
        }
      ],
      "source": [
        "with open(images_dump_path, \"rb\") as f:\n",
        "  images_dump = pickle.load(f)\n",
        "images_name_to_id = { name:idx for idx, name in enumerate(images_dump['file_names'])}\n",
        "print(\"images_dump keys\", images_dump.keys(), \"\\nnum image files\", len(images_dump['file_names']))\n",
        "\n",
        "train_df = pd.read_csv(train_csv_path)\n",
        "train_df[label_col] = train_df[category_id_col].map(categories_id_to_name)\n",
        "train_df[image_idx_col] = train_df[image_names_col].map(images_name_to_id)\n",
        "test_df = pd.read_csv(test_csv_path)\n",
        "test_df[image_idx_col] = test_df[image_names_col].map(images_name_to_id)\n",
        "\n",
        "train_df.head()"
      ]
    },
    {
      "cell_type": "code",
      "source": [
        "showImages(train_df, n=5, images_dump=images_dump['files_dump'], images_name_to_id=images_name_to_id)"
      ],
      "metadata": {
        "colab": {
          "base_uri": "https://localhost:8080/",
          "height": 124
        },
        "id": "YWxBhJirqQyr",
        "outputId": "a0284373-d0d0-42b0-9bfd-7802347a821e"
      },
      "id": "YWxBhJirqQyr",
      "execution_count": 60,
      "outputs": [
        {
          "output_type": "display_data",
          "data": {
            "image/png": "[encoded data removed]",
            "text/plain": [
              "<Figure size 432x288 with 5 Axes>"
            ]
          },
          "metadata": {
            "needs_background": "light"
          }
        },
        {
          "output_type": "display_data",
          "data": {
            "text/plain": [
              "<Figure size 720x1440 with 0 Axes>"
            ]
          },
          "metadata": {}
        }
      ]
    },
    {
      "cell_type": "markdown",
      "source": [
        "Prepare images dump tensors"
      ],
      "metadata": {
        "id": "emej8czCKpDf"
      },
      "id": "emej8czCKpDf"
    },
    {
      "cell_type": "code",
      "source": [
        "all_images_tensor = tf.convert_to_tensor(images_dump['files_dump'])"
      ],
      "metadata": {
        "id": "JE1m5sRuKoko"
      },
      "id": "JE1m5sRuKoko",
      "execution_count": 8,
      "outputs": []
    },
    {
      "cell_type": "markdown",
      "id": "2a3a1a38-761b-473d-a917-a223fab1b3e8",
      "metadata": {
        "id": "2a3a1a38-761b-473d-a917-a223fab1b3e8"
      },
      "source": [
        "### Prepare datasets for training and validation"
      ]
    },
    {
      "cell_type": "code",
      "execution_count": 48,
      "id": "4cd6166d-071b-40f0-9426-18dea7dbd83c",
      "metadata": {
        "id": "4cd6166d-071b-40f0-9426-18dea7dbd83c"
      },
      "outputs": [],
      "source": [
        "train_data, val_data = train_test_split(train_df, test_size=0.2)\n",
        "train_ds = create_dataset_with_labels(all_images_tensor, train_data)\n",
        "val_ds = create_dataset_with_labels(all_images_tensor, val_data)\n",
        "test_ds = create_images_dataset(all_images_tensor, test_df).batch(32)"
      ]
    },
    {
      "cell_type": "markdown",
      "id": "b52dd1fc-b09d-4bd8-be6d-7b54a75804d5",
      "metadata": {
        "id": "b52dd1fc-b09d-4bd8-be6d-7b54a75804d5"
      },
      "source": [
        "### Training deep neaural network using Tensorflow"
      ]
    },
    {
      "cell_type": "markdown",
      "id": "JL4feRv_bp2b",
      "metadata": {
        "id": "JL4feRv_bp2b"
      },
      "source": [
        "**Transfer learning**: We are using ResNet model for image classification.\n",
        "1. In 1st phase, we train our model by freezing keeping pre_trained_model (i.e setting trainable=False)\n",
        "1. In 2nd phase, we train our model by unfreezing keeping pre_trained_model (i.e setting trainable=True) but with very small learning_rate"
      ]
    },
    {
      "cell_type": "code",
      "execution_count": 29,
      "id": "aa2b2db3-253b-47ed-b05a-d6e55a6b5996",
      "metadata": {
        "id": "aa2b2db3-253b-47ed-b05a-d6e55a6b5996"
      },
      "outputs": [],
      "source": [
        "def create_model(trainable=False):\n",
        "    pre_trained_model = resnet_v2.ResNet50V2(include_top=False, pooling='max', weights='imagenet', input_shape=(imgy, imgx, 3))\n",
        "    input = tf.keras.Input(shape=(imgy, imgx, 3))\n",
        "    output = resnet_v2.preprocess_input(input)\n",
        "    output = pre_trained_model(output, training=False)\n",
        "    output = layers.Dropout(0.5)(output)\n",
        "    output = layers.Dense(5, activation=\"softmax\")(output)\n",
        "    pre_trained_model.trainable=trainable\n",
        "    model = tf.keras.Model(input, output)\n",
        "    return model\n",
        "\n",
        "def compile_and_fit(model, train_ds, val_ds, model_path, learning_rate=0.01, epochs=5, patience=3, current_best_model=None):\n",
        "    early_stopping = tf.keras.callbacks.EarlyStopping(monitor='val_accuracy', patience=patience, mode='max')\n",
        "    reduce_lr = tf.keras.callbacks.ReduceLROnPlateau( monitor='val_accuracy', factor=0.1, patience=patience,\n",
        "                                                     mode='max', min_delta=0.0001, cooldown=0, min_lr=min(0.0001, learning_rate))\n",
        "    model_checkpoint_callback = tf.keras.callbacks.ModelCheckpoint(filepath=model_path, monitor='val_accuracy',\n",
        "                                                                   mode='max', save_weights_only=True, save_best_only=True)\n",
        "    model.compile(loss=tf.keras.losses.BinaryCrossentropy(), metrics=['accuracy'], \n",
        "                  optimizer=tf.keras.optimizers.Adam(learning_rate=learning_rate))\n",
        "    if current_best_model is not None:\n",
        "      model.set_weights(current_best_model.get_weights())\n",
        "    train_log = model.fit(train_ds, epochs=epochs, validation_data=val_ds,\n",
        "                      callbacks=[early_stopping, model_checkpoint_callback, reduce_lr])\n",
        "    best_model = create_model()\n",
        "    best_model.load_weights(tf.train.latest_checkpoint(models_dir))\n",
        "    return best_model, train_log\n"
      ]
    },
    {
      "cell_type": "markdown",
      "source": [
        "Fast training phase by freezing the pre-trained-model and followed by \n",
        "slow training phase by unfreezing the pre-trained model."
      ],
      "metadata": {
        "id": "fYQknCgdEZ-g"
      },
      "id": "fYQknCgdEZ-g"
    },
    {
      "cell_type": "code",
      "execution_count": 31,
      "id": "0da91eae-f124-49f2-bd87-c58c858ef2b2",
      "metadata": {
        "colab": {
          "base_uri": "https://localhost:8080/"
        },
        "id": "0da91eae-f124-49f2-bd87-c58c858ef2b2",
        "outputId": "0b18bfb6-8a2c-4805-8aed-ac0d2f2c4c99"
      },
      "outputs": [
        {
          "output_type": "stream",
          "name": "stdout",
          "text": [
            "Epoch 1/10\n",
            "157/157 [==============================] - 36s 160ms/step - loss: 0.9116 - accuracy: 0.7281 - val_loss: 0.4082 - val_accuracy: 0.7834 - lr: 1.0000e-05\n",
            "Epoch 2/10\n",
            "157/157 [==============================] - 26s 168ms/step - loss: 0.4067 - accuracy: 0.7792 - val_loss: 0.3146 - val_accuracy: 0.7946 - lr: 1.0000e-05\n",
            "Epoch 3/10\n",
            "157/157 [==============================] - 20s 125ms/step - loss: 0.2711 - accuracy: 0.8224 - val_loss: 0.2703 - val_accuracy: 0.8082 - lr: 1.0000e-05\n",
            "Epoch 4/10\n",
            "157/157 [==============================] - 21s 131ms/step - loss: 0.1851 - accuracy: 0.8700 - val_loss: 0.2651 - val_accuracy: 0.8265 - lr: 1.0000e-05\n",
            "Epoch 5/10\n",
            "157/157 [==============================] - 19s 121ms/step - loss: 0.1378 - accuracy: 0.9024 - val_loss: 0.2642 - val_accuracy: 0.8321 - lr: 1.0000e-05\n",
            "Epoch 6/10\n",
            "157/157 [==============================] - 26s 168ms/step - loss: 0.1080 - accuracy: 0.9260 - val_loss: 0.2626 - val_accuracy: 0.8401 - lr: 1.0000e-05\n",
            "Epoch 7/10\n",
            "157/157 [==============================] - 21s 133ms/step - loss: 0.0738 - accuracy: 0.9514 - val_loss: 0.2611 - val_accuracy: 0.8417 - lr: 1.0000e-05\n",
            "Epoch 8/10\n",
            "157/157 [==============================] - 18s 115ms/step - loss: 0.0635 - accuracy: 0.9626 - val_loss: 0.2772 - val_accuracy: 0.8417 - lr: 1.0000e-05\n",
            "Epoch 9/10\n",
            "157/157 [==============================] - 19s 121ms/step - loss: 0.0484 - accuracy: 0.9742 - val_loss: 0.2735 - val_accuracy: 0.8481 - lr: 1.0000e-05\n",
            "Epoch 10/10\n",
            "157/157 [==============================] - 20s 126ms/step - loss: 0.0388 - accuracy: 0.9806 - val_loss: 0.2720 - val_accuracy: 0.8521 - lr: 1.0000e-05\n"
          ]
        }
      ],
      "source": [
        "model = create_model()\n",
        "print(model.summary())\n",
        "model_path = path.join(models_dir, \"best\")\n",
        "print(\"Fast training phase:\")\n",
        "best_fast_model, train_log = compile_and_fit(model, train_ds, val_ds, model_path, epochs=10, patience=3)\n",
        "print(\"Slow training phase:\")\n",
        "best_model, train_log = compile_and_fit(create_model(trainable=True), train_ds, val_ds, model_path, learning_rate=1e-5, \n",
        "                                        epochs=20, patience=3, current_best_model=best_fast_model)"
      ]
    },
    {
      "cell_type": "code",
      "source": [
        "best_fast_model = best_model\n",
        "best_model, train_log = compile_and_fit(create_model(trainable=True), train_ds, val_ds, model_path, learning_rate=1e-5, \n",
        "                                        epochs=10, patience=3, current_best_model=best_fast_model)"
      ],
      "metadata": {
        "colab": {
          "base_uri": "https://localhost:8080/"
        },
        "id": "cPQ3SW5Ei1f7",
        "outputId": "45b8c9c3-c4e0-4163-f479-fb70a89a1d33"
      },
      "id": "cPQ3SW5Ei1f7",
      "execution_count": 32,
      "outputs": [
        {
          "output_type": "stream",
          "name": "stdout",
          "text": [
            "WARNING:tensorflow:Unresolved object in checkpoint: (root).optimizer\n",
            "WARNING:tensorflow:Unresolved object in checkpoint: (root).optimizer.iter\n",
            "WARNING:tensorflow:Unresolved object in checkpoint: (root).optimizer.beta_1\n",
            "WARNING:tensorflow:Unresolved object in checkpoint: (root).optimizer.beta_2\n",
            "WARNING:tensorflow:Unresolved object in checkpoint: (root).optimizer.decay\n",
            "WARNING:tensorflow:Unresolved object in checkpoint: (root).optimizer.learning_rate\n",
            "WARNING:tensorflow:Unresolved object in checkpoint: (root).optimizer's state 'm' for (root).layer_with_weights-1.kernel\n",
            "WARNING:tensorflow:Unresolved object in checkpoint: (root).optimizer's state 'm' for (root).layer_with_weights-1.bias\n",
            "WARNING:tensorflow:Unresolved object in checkpoint: (root).optimizer's state 'v' for (root).layer_with_weights-1.kernel\n",
            "WARNING:tensorflow:Unresolved object in checkpoint: (root).optimizer's state 'v' for (root).layer_with_weights-1.bias\n",
            "WARNING:tensorflow:A checkpoint was restored (e.g. tf.train.Checkpoint.restore or tf.keras.Model.load_weights) but not all checkpointed values were used. See above for specific issues. Use expect_partial() on the load status object, e.g. tf.train.Checkpoint.restore(...).expect_partial(), to silence these warnings, or use assert_consumed() to make the check explicit. See https://www.tensorflow.org/guide/checkpoint#loading_mechanics for details.\n",
            "Epoch 1/10\n",
            "157/157 [==============================] - 32s 150ms/step - loss: 0.0443 - accuracy: 0.9722 - val_loss: 0.2632 - val_accuracy: 0.8457 - lr: 1.0000e-05\n",
            "Epoch 2/10\n",
            "157/157 [==============================] - 20s 126ms/step - loss: 0.0369 - accuracy: 0.9786 - val_loss: 0.2935 - val_accuracy: 0.8593 - lr: 1.0000e-05\n",
            "Epoch 3/10\n",
            "157/157 [==============================] - 20s 128ms/step - loss: 0.0292 - accuracy: 0.9862 - val_loss: 0.2970 - val_accuracy: 0.8633 - lr: 1.0000e-05\n",
            "Epoch 4/10\n",
            "157/157 [==============================] - 19s 121ms/step - loss: 0.0283 - accuracy: 0.9874 - val_loss: 0.3059 - val_accuracy: 0.8665 - lr: 1.0000e-05\n",
            "Epoch 5/10\n",
            "157/157 [==============================] - 18s 112ms/step - loss: 0.0211 - accuracy: 0.9912 - val_loss: 0.3153 - val_accuracy: 0.8553 - lr: 1.0000e-05\n",
            "Epoch 6/10\n",
            "157/157 [==============================] - 18s 115ms/step - loss: 0.0187 - accuracy: 0.9912 - val_loss: 0.3354 - val_accuracy: 0.8553 - lr: 1.0000e-05\n",
            "Epoch 7/10\n",
            "157/157 [==============================] - 18s 113ms/step - loss: 0.0148 - accuracy: 0.9938 - val_loss: 0.3316 - val_accuracy: 0.8633 - lr: 1.0000e-05\n"
          ]
        }
      ]
    },
    {
      "cell_type": "markdown",
      "id": "jb49710c2QX8",
      "metadata": {
        "id": "jb49710c2QX8"
      },
      "source": [
        "#### Check results on test dataset"
      ]
    },
    {
      "cell_type": "code",
      "execution_count": 49,
      "id": "2d7ffe84-3479-4298-9b5f-cec0cf378dae",
      "metadata": {
        "id": "2d7ffe84-3479-4298-9b5f-cec0cf378dae"
      },
      "outputs": [],
      "source": [
        "# Create best model from saved weights\n",
        "test_predictions = best_model.predict(test_ds)\n",
        "# Our label index starts with 1\n",
        "test_df[category_id_col] = pd.Series(np.argmax(test_predictions, axis=1)+1)\n",
        "test_df[label_col] = test_df[category_id_col].map(categories_id_to_name)"
      ]
    },
    {
      "cell_type": "code",
      "source": [
        "test_df"
      ],
      "metadata": {
        "colab": {
          "base_uri": "https://localhost:8080/",
          "height": 424
        },
        "id": "1t94hpbCkBXb",
        "outputId": "d609ab71-562c-4f28-e59d-33a26b849831"
      },
      "id": "1t94hpbCkBXb",
      "execution_count": 50,
      "outputs": [
        {
          "output_type": "execute_result",
          "data": {
            "text/html": [
              "<div>\n",
              "<style scoped>\n",
              "    .dataframe tbody tr th:only-of-type {\n",
              "        vertical-align: middle;\n",
              "    }\n",
              "\n",
              "    .dataframe tbody tr th {\n",
              "        vertical-align: top;\n",
              "    }\n",
              "\n",
              "    .dataframe thead th {\n",
              "        text-align: right;\n",
              "    }\n",
              "</style>\n",
              "<table border=\"1\" class=\"dataframe\">\n",
              "  <thead>\n",
              "    <tr style=\"text-align: right;\">\n",
              "      <th></th>\n",
              "      <th>image</th>\n",
              "      <th>image_idx</th>\n",
              "      <th>category_name</th>\n",
              "      <th>category</th>\n",
              "    </tr>\n",
              "  </thead>\n",
              "  <tbody>\n",
              "    <tr>\n",
              "      <th>0</th>\n",
              "      <td>1007700.jpg</td>\n",
              "      <td>1452</td>\n",
              "      <td>Cruise</td>\n",
              "      <td>4</td>\n",
              "    </tr>\n",
              "    <tr>\n",
              "      <th>1</th>\n",
              "      <td>1011369.jpg</td>\n",
              "      <td>1782</td>\n",
              "      <td>Cruise</td>\n",
              "      <td>4</td>\n",
              "    </tr>\n",
              "    <tr>\n",
              "      <th>2</th>\n",
              "      <td>1051155.jpg</td>\n",
              "      <td>1003</td>\n",
              "      <td>Cruise</td>\n",
              "      <td>4</td>\n",
              "    </tr>\n",
              "    <tr>\n",
              "      <th>3</th>\n",
              "      <td>1062001.jpg</td>\n",
              "      <td>904</td>\n",
              "      <td>Military</td>\n",
              "      <td>2</td>\n",
              "    </tr>\n",
              "    <tr>\n",
              "      <th>4</th>\n",
              "      <td>1069397.jpg</td>\n",
              "      <td>2459</td>\n",
              "      <td>Cruise</td>\n",
              "      <td>4</td>\n",
              "    </tr>\n",
              "    <tr>\n",
              "      <th>...</th>\n",
              "      <td>...</td>\n",
              "      <td>...</td>\n",
              "      <td>...</td>\n",
              "      <td>...</td>\n",
              "    </tr>\n",
              "    <tr>\n",
              "      <th>2675</th>\n",
              "      <td>950995.jpg</td>\n",
              "      <td>595</td>\n",
              "      <td>Cruise</td>\n",
              "      <td>4</td>\n",
              "    </tr>\n",
              "    <tr>\n",
              "      <th>2676</th>\n",
              "      <td>951046.jpg</td>\n",
              "      <td>489</td>\n",
              "      <td>Cruise</td>\n",
              "      <td>4</td>\n",
              "    </tr>\n",
              "    <tr>\n",
              "      <th>2677</th>\n",
              "      <td>951323.jpg</td>\n",
              "      <td>912</td>\n",
              "      <td>Cruise</td>\n",
              "      <td>4</td>\n",
              "    </tr>\n",
              "    <tr>\n",
              "      <th>2678</th>\n",
              "      <td>952113.jpg</td>\n",
              "      <td>1840</td>\n",
              "      <td>Cargo</td>\n",
              "      <td>1</td>\n",
              "    </tr>\n",
              "    <tr>\n",
              "      <th>2679</th>\n",
              "      <td>953982.jpg</td>\n",
              "      <td>390</td>\n",
              "      <td>Cruise</td>\n",
              "      <td>4</td>\n",
              "    </tr>\n",
              "  </tbody>\n",
              "</table>\n",
              "<p>2680 rows × 4 columns</p>\n",
              "</div>"
            ],
            "text/plain": [
              "            image  image_idx category_name  category\n",
              "0     1007700.jpg       1452        Cruise         4\n",
              "1     1011369.jpg       1782        Cruise         4\n",
              "2     1051155.jpg       1003        Cruise         4\n",
              "3     1062001.jpg        904      Military         2\n",
              "4     1069397.jpg       2459        Cruise         4\n",
              "...           ...        ...           ...       ...\n",
              "2675   950995.jpg        595        Cruise         4\n",
              "2676   951046.jpg        489        Cruise         4\n",
              "2677   951323.jpg        912        Cruise         4\n",
              "2678   952113.jpg       1840         Cargo         1\n",
              "2679   953982.jpg        390        Cruise         4\n",
              "\n",
              "[2680 rows x 4 columns]"
            ]
          },
          "metadata": {},
          "execution_count": 50
        }
      ]
    },
    {
      "cell_type": "code",
      "execution_count": 61,
      "id": "72r4h8eXq5Zv",
      "metadata": {
        "id": "72r4h8eXq5Zv",
        "colab": {
          "base_uri": "https://localhost:8080/",
          "height": 243
        },
        "outputId": "10513da0-1e4c-4583-c092-394f8fe3edc9"
      },
      "outputs": [
        {
          "output_type": "display_data",
          "data": {
            "image/png": "[encoded data removed]",
            "text/plain": [
              "<Figure size 432x288 with 10 Axes>"
            ]
          },
          "metadata": {
            "needs_background": "light"
          }
        },
        {
          "output_type": "display_data",
          "data": {
            "text/plain": [
              "<Figure size 720x1440 with 0 Axes>"
            ]
          },
          "metadata": {}
        }
      ],
      "source": [
        "showImages(test_df, n=10, images_dump=images_dump['files_dump'], images_name_to_id=images_name_to_id)"
      ]
    },
    {
      "cell_type": "markdown",
      "id": "mKMWVNCz462I",
      "metadata": {
        "id": "mKMWVNCz462I"
      },
      "source": [
        "**Create Submission file**"
      ]
    },
    {
      "cell_type": "code",
      "source": [
        "test_df[[image_names_col, category_id_col]].to_csv(submission_csv_path, index=False)\n",
        "files.download(submission_csv_path)"
      ],
      "metadata": {
        "id": "muilCQq_MyZ7",
        "colab": {
          "base_uri": "https://localhost:8080/",
          "height": 17
        },
        "outputId": "b598f2ff-b6fc-4b6c-afd2-52248180a5d8"
      },
      "id": "muilCQq_MyZ7",
      "execution_count": 62,
      "outputs": [
        {
          "output_type": "display_data",
          "data": {
            "application/javascript": [
              "\n",
              "    async function download(id, filename, size) {\n",
              "      if (!google.colab.kernel.accessAllowed) {\n",
              "        return;\n",
              "      }\n",
              "      const div = document.createElement('div');\n",
              "      const label = document.createElement('label');\n",
              "      label.textContent = `Downloading \"${filename}\": `;\n",
              "      div.appendChild(label);\n",
              "      const progress = document.createElement('progress');\n",
              "      progress.max = size;\n",
              "      div.appendChild(progress);\n",
              "      document.body.appendChild(div);\n",
              "\n",
              "      const buffers = [];\n",
              "      let downloaded = 0;\n",
              "\n",
              "      const channel = await google.colab.kernel.comms.open(id);\n",
              "      // Send a message to notify the kernel that we're ready.\n",
              "      channel.send({})\n",
              "\n",
              "      for await (const message of channel.messages) {\n",
              "        // Send a message to notify the kernel that we're ready.\n",
              "        channel.send({})\n",
              "        if (message.buffers) {\n",
              "          for (const buffer of message.buffers) {\n",
              "            buffers.push(buffer);\n",
              "            downloaded += buffer.byteLength;\n",
              "            progress.value = downloaded;\n",
              "          }\n",
              "        }\n",
              "      }\n",
              "      const blob = new Blob(buffers, {type: 'application/binary'});\n",
              "      const a = document.createElement('a');\n",
              "      a.href = window.URL.createObjectURL(blob);\n",
              "      a.download = filename;\n",
              "      div.appendChild(a);\n",
              "      a.click();\n",
              "      div.remove();\n",
              "    }\n",
              "  "
            ],
            "text/plain": [
              "<IPython.core.display.Javascript object>"
            ]
          },
          "metadata": {}
        },
        {
          "output_type": "display_data",
          "data": {
            "application/javascript": [
              "download(\"download_44e073c7-f88e-4d90-9df1-4adc97a10e74\", \"submission.csv\", 37443)"
            ],
            "text/plain": [
              "<IPython.core.display.Javascript object>"
            ]
          },
          "metadata": {}
        }
      ]
    }
  ],
  "metadata": {
    "colab": {
      "collapsed_sections": [],
      "name": "Ship_classification_using_transfer_learning_V2.ipynb",
      "provenance": []
    },
    "kernelspec": {
      "display_name": "Python 3 (ipykernel)",
      "language": "python",
      "name": "python3"
    },
    "language_info": {
      "codemirror_mode": {
        "name": "ipython",
        "version": 3
      },
      "file_extension": ".py",
      "mimetype": "text/x-python",
      "name": "python",
      "nbconvert_exporter": "python",
      "pygments_lexer": "ipython3",
      "version": "3.9.7"
    },
    "accelerator": "GPU"
  },
  "nbformat": 4,
  "nbformat_minor": 5
}