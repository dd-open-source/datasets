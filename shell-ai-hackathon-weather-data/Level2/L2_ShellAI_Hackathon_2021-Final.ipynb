{
 "cells": [
  {
   "cell_type": "markdown",
   "metadata": {
    "id": "CRNAHcg5OcNR"
   },
   "source": [
    "Python modules used for the hackathon."
   ]
  },
  {
   "cell_type": "code",
   "execution_count": 1,
   "metadata": {
    "scrolled": true
   },
   "outputs": [],
   "source": [
    "# !/usr/bin/python -m pip install --upgrade pip\n",
    "# !pip install pandas\n",
    "# !pip install numpy\n",
    "# !pip install sklearn\n",
    "# !pip install matplotlib\n",
    "# !pip install scikit-image\n",
    "# !pip install cv2\n",
    "# !pip install tabulate\n",
    "# !pip install -q -U keras-tuner\n",
    "# !pip uninstall protobuf python3-protobuf\n",
    "# !pip install --upgrade pip\n",
    "# !pip install --upgrade protobuf\n",
    "# !pip install graphviz\n"
   ]
  },
  {
   "cell_type": "code",
   "execution_count": 2,
   "metadata": {
    "id": "zSNgVgg8Pis0"
   },
   "outputs": [
    {
     "name": "stderr",
     "output_type": "stream",
     "text": [
      "2021-12-05 06:04:46.696710: I tensorflow/stream_executor/platform/default/dso_loader.cc:53] Successfully opened dynamic library libcudart.so.11.0\n"
     ]
    }
   ],
   "source": [
    "import os\n",
    "import datetime\n",
    "import re\n",
    "import glob\n",
    "\n",
    "import IPython\n",
    "import IPython.display\n",
    "from IPython.display import clear_output\n",
    "\n",
    "import matplotlib.pyplot as plt\n",
    "import numpy as np\n",
    "import pandas as pd\n",
    "import tensorflow as tf\n",
    "from tensorflow import keras\n",
    "\n",
    "from sklearn.model_selection import train_test_split\n",
    "from sklearn.feature_selection import mutual_info_regression\n",
    "from sklearn.metrics import mean_absolute_error, silhouette_score\n",
    "from scipy.stats import zscore\n",
    "from sklearn.preprocessing import StandardScaler, MinMaxScaler\n",
    "import keras_tuner as kt\n",
    "from sklearn.cluster import KMeans\n",
    "from sklearn.manifold import TSNE\n",
    "from scipy.special import softmax\n",
    "\n",
    "import warnings\n",
    "warnings.filterwarnings('ignore')"
   ]
  },
  {
   "cell_type": "code",
   "execution_count": 3,
   "metadata": {
    "id": "2L9H4NLzrbvE"
   },
   "outputs": [],
   "source": [
    "gdrive = '/home/ai_team26/shell_hack/go/bin/gdrive'\n",
    "data_path = '/home/ai_team26/shell_hack/load_dir/data_to_nvidia'\n",
    "training_data_key = 'Data_Train'\n",
    "testing_data_key = 'Data_Test'\n",
    "\n",
    "training_path = os.path.join(data_path, training_data_key)\n",
    "testing_path = os.path.join(data_path, testing_data_key)\n",
    "resized_imgs_dir = os.path.join(data_path, 'Data_Img')\n",
    "imgs_ds_path = os.path.join(data_path, 'Data_Img_DS')\n",
    "img_kind = \"Projection\"\n",
    "img_x = img_y = 40\n",
    "imgs_ds_np_path = '{}/{}x{}_{}.npy'.format(imgs_ds_path, img_x, img_y, img_kind)\n",
    "\n",
    "training_csv_path = os.path.join(training_path, 'weather_data.csv')\n",
    "testing_csv_path = os.path.join(testing_path, 'weather_data.csv')\n",
    "test_csv_file_template = os.path.join(testing_path, '{}/weather_data.csv')\n",
    "pred_default_location = os.path.join(data_path,'submissions/predictions.csv')\n",
    "public_leader_location = os.path.join(data_path,'Public_LeaderBoard.csv')\n",
    "drive_pred_id = '1UEoshMeBb5lCll29clUYqyVN-i3_HFjd'\n",
    "drive_public_leader_board_id = '1k79ujc-fbPhlPjg2ROJkIYOsLUdX-Uvm'\n",
    "\n",
    "target_col = 'Global CMP22 (vent/cor) [W/m^2]'\n",
    "date_col = 'DATE (YYYY/MM/DD)_MST'\n",
    "scenario_set_col = 'scenario_set'\n",
    "img_path_col = 'img_path'\n",
    "img_index_col = 'img_index'\n",
    "imgs_ds_np_path = '{}/{}x{}_{}.npy'.format(imgs_ds_path, img_x, img_y, img_kind)\n",
    "img_unavailable = -100\n",
    "\n",
    "img_time_sine_col = 'Img Day sin'\n",
    "img_time_cos_col = 'Img Day cos'\n",
    "year_sine_col = 'Year sin'\n",
    "year_cos_col = 'Year cos'\n",
    "day_sine_col = 'Day sin'\n",
    "day_cos_col = 'Day cos'\n",
    "target_day_sine_col = 'Target Day sin'\n",
    "target_day_cos_col = 'Target Day cos'\n",
    "is_train_col = 'is_train'\n",
    "\n",
    "target_date_cols = [target_day_sine_col, target_day_cos_col]\n",
    "INPUT_STEPS = 12\n",
    "SAMPLING_RATE = 10\n",
    "\n",
    "OUTPUT_STEPS = 12\n",
    "\n",
    "IMG_DELAY_TOLERANCE = 3\n",
    "\n",
    "cloud_coverage_col = 'Total Cloud Cover [%]'\n",
    "precipitation_col = 'Precipitation (Accumulated) [mm]'\n",
    "moisture_col = 'Moisture'\n",
    "\n",
    "feature_cols_for_outliers = [target_col, 'Direct sNIP [W/m^2]', 'Azimuth Angle [degrees]',\n",
    "       'Tower Dry Bulb Temp [deg C]', 'Tower Wet Bulb Temp [deg C]',\n",
    "       'Tower Dew Point Temp [deg C]', 'Tower RH [%]', cloud_coverage_col,\n",
    "       'Peak Wind Speed @ 6ft [m/s]', 'Avg Wind Direction @ 6ft [deg from N]',\n",
    "       'Station Pressure [mBar]', precipitation_col,\n",
    "       'Snow Depth [cm]', moisture_col, 'Albedo (CMP11)']\n",
    "\n",
    "non_neg_feature_cols = [target_col, 'Direct sNIP [W/m^2]', cloud_coverage_col ]\n",
    "\n",
    "time_series_cols = [target_col, 'Direct sNIP [W/m^2]', 'Tower Dry Bulb Temp [deg C]',\n",
    "       'Tower Wet Bulb Temp [deg C]', 'Tower Dew Point Temp [deg C]',\n",
    "       'Tower RH [%]', cloud_coverage_col, 'Station Pressure [mBar]',\n",
    "        'Snow Depth [cm]', 'Albedo (CMP11)', precipitation_col,\n",
    "        'Wind x','Wind y', 'Azimuth sin', moisture_col,\n",
    "        'Azimuth cos', day_sine_col, day_cos_col, year_sine_col, year_cos_col]\n",
    "\n",
    "\n",
    "img_cols = [img_index_col, img_time_sine_col, img_time_cos_col]\n",
    "\n",
    "feature_cols_for_prepare = time_series_cols + [img_index_col]\n",
    "day_start_idx_col = 'day_start_idx'\n",
    "feature_start_idx_col = 'feature_start_idx'\n",
    "feature_steps_col = 'feature_steps'\n",
    "feature_end_idx_col = 'feature_end_idx'\n",
    "total_end_idx_col = 'total_end_idx'\n",
    "cluster_col = 'cluster'\n",
    "index_col = 'index'\n",
    "\n",
    "idx_df_cols = [cluster_col, scenario_set_col, index_col, day_start_idx_col, feature_start_idx_col, \n",
    "                  feature_end_idx_col, total_end_idx_col, feature_steps_col]\n",
    "\n",
    "cluster_idx = idx_df_cols.index(cluster_col)\n",
    "day_start_idx = idx_df_cols.index(day_start_idx_col)\n",
    "feature_start_idx = idx_df_cols.index(feature_start_idx_col)\n",
    "feature_end_idx = idx_df_cols.index(feature_end_idx_col)\n",
    "total_end_idx = idx_df_cols.index(total_end_idx_col)\n",
    "\n",
    "pred_df_cols = ['{}_min_horizon'.format(p) for p in range(10, 130, 10)]"
   ]
  },
  {
   "cell_type": "code",
   "execution_count": 4,
   "metadata": {},
   "outputs": [],
   "source": [
    "def convert_time_stamp_to_vector(timestamps, freq='day'):\n",
    "    if freq == 'day':\n",
    "        divisor = 24*60*60\n",
    "    elif freq == 'year':\n",
    "        divisor = (365.2425)*(24*60*60)\n",
    "    else: \n",
    "        raise Exception('Frequency not supported')\n",
    "        \n",
    "    timestamp_s = (timestamps - pd.Timestamp(\"2010-01-01\")).dt.total_seconds()\n",
    "    sine_series = np.sin(timestamp_s * (2 * np.pi / divisor))\n",
    "    cos_series = np.cos(timestamp_s * (2 * np.pi / divisor))\n",
    "    return sine_series, cos_series\n",
    "    "
   ]
  },
  {
   "cell_type": "markdown",
   "metadata": {},
   "source": [
    "Prepare images"
   ]
  },
  {
   "cell_type": "code",
   "execution_count": 5,
   "metadata": {},
   "outputs": [],
   "source": [
    "with open(imgs_ds_np_path, 'rb') as f:\n",
    "    all_images = np.divide(np.load(f).reshape(-1, img_x, img_y, 3), 255)\n",
    "    all_image_paths = np.load(f)\n",
    "all_images_tensor = tf.constant(all_images, dtype=tf.float32)\n",
    "\n",
    "def prepare_img_df(img_paths_arr):\n",
    "    img_df = pd.DataFrame()\n",
    "    img_df[img_path_col] = img_paths_arr\n",
    "    img_df[img_index_col] = list(range(img_paths_arr.shape[0]))\n",
    "    img_date_extractor_fn = (lambda img_path: re.search(r\"\\d+\", img_path.split('-')[-1]).group())\n",
    "    img_src_extractor_fn = (lambda img_path: str(img_path).split('-')[0])\n",
    "    img_df[date_col] = pd.to_datetime(img_df[img_path_col].apply(img_date_extractor_fn), format=\"%Y%m%d%H%M%S\")\n",
    "    img_df['src'] = img_df[img_path_col].apply(img_src_extractor_fn)\n",
    "    img_df = img_df[~img_df[date_col].duplicated(keep='first')]\n",
    "    img_df[img_time_sine_col], img_df[img_time_cos_col] = convert_time_stamp_to_vector(img_df[date_col], \n",
    "                                                                                       freq='day')\n",
    "    return img_df\n",
    "\n",
    "all_image_info_df = prepare_img_df(all_image_paths)\n",
    "train_image_paths_df = all_image_info_df[all_image_info_df['src'] == training_data_key].reset_index(drop=True)\n",
    "test_image_paths_df = all_image_info_df[all_image_info_df['src'] == testing_data_key].reset_index(drop=True)\n",
    "clear_output()"
   ]
  },
  {
   "cell_type": "code",
   "execution_count": 6,
   "metadata": {},
   "outputs": [],
   "source": [
    "# !{gdrive} upload -r -p \"1tb4xPinTSMU7DyLW1K-sdU53qAv7SfX0\" {training_path}/20200501"
   ]
  },
  {
   "cell_type": "markdown",
   "metadata": {
    "id": "2gjwwobkPLlW"
   },
   "source": [
    "We converted all individual test scenario files into single test file for easy usage. Following script need to be executed only one time."
   ]
  },
  {
   "cell_type": "code",
   "execution_count": 7,
   "metadata": {
    "id": "8zPhbcl0cuH0"
   },
   "outputs": [],
   "source": [
    "# test_dfs=[]\n",
    "# for i in range(1, 301):\n",
    "#     test_file = test_csv_file_template.format(i)\n",
    "#     df = pd.read_csv(test_file)\n",
    "#     test_dfs.append(df)\n",
    "\n",
    "# for idx, test_df in enumerate(test_dfs):\n",
    "#   test_df['scenario_set'] = idx+1\n",
    "\n",
    "# test_df = pd.concat(test_dfs, axis=0).reset_index(drop=True)\n",
    "# test_df.to_csv(testing_path, index=False)"
   ]
  },
  {
   "cell_type": "markdown",
   "metadata": {
    "id": "jiYDsjT9PulL"
   },
   "source": [
    "Read train and test datasets and convert to pandas Dataframes.\n"
   ]
  },
  {
   "cell_type": "code",
   "execution_count": 8,
   "metadata": {
    "id": "c0e-0vkyP5gZ"
   },
   "outputs": [],
   "source": [
    "train_df = pd.read_csv(training_csv_path, parse_dates=[[0,1]])\n",
    "test_df = pd.read_csv(testing_csv_path, parse_dates=[[0,1]])\n",
    "train_df[scenario_set_col] = train_df[date_col].dt.strftime('%Y%m%d').astype(int)\n",
    "train_df[is_train_col] = True\n",
    "test_df[is_train_col] = False"
   ]
  },
  {
   "cell_type": "markdown",
   "metadata": {
    "id": "Xe6TfNdd7Lx9"
   },
   "source": [
    "Define commonally used variables"
   ]
  },
  {
   "cell_type": "code",
   "execution_count": 9,
   "metadata": {
    "id": "mghk-pnRK_LS"
   },
   "outputs": [],
   "source": [
    "# Mutual information scores\n",
    "# def make_mi_scores(X, y):\n",
    "#     mi_scores = mutual_info_regression(X, y)\n",
    "#     mi_scores = pd.Series(mi_scores, name=\"MI Scores\", index=X.columns)\n",
    "#     mi_scores = mi_scores.sort_values(ascending=False)\n",
    "#     return mi_scores"
   ]
  },
  {
   "cell_type": "markdown",
   "metadata": {
    "id": "OkFFTGFFSq12"
   },
   "source": [
    "Calculate z-scores and remove outliers"
   ]
  },
  {
   "cell_type": "code",
   "execution_count": 10,
   "metadata": {
    "id": "ISkEGoQxeqm4"
   },
   "outputs": [],
   "source": [
    "def fill_outliers(df, features):\n",
    "    for col in features:\n",
    "        z_scores = np.abs(zscore(df[col])) > 3\n",
    "        df.at[z_scores, col] = np.nan\n",
    "    return df\n",
    "\n",
    "def fill_na(df, axis=None):\n",
    "    df = df.fillna(method='ffill', axis=axis)\n",
    "    df = df.fillna(method='bfill', axis=axis)\n",
    "    df = df.fillna(0)\n",
    "    return df\n",
    "        \n",
    "def fill_non_neg_feature_cols(df, feature_cols):\n",
    "    for non_neg_feature_col in feature_cols:\n",
    "        neg_values =  df[non_neg_feature_col] < 0\n",
    "        df.at[neg_values, non_neg_feature_col] = np.nan\n",
    "        df[non_neg_feature_col] = fill_na(df[non_neg_feature_col])\n",
    "    return df\n",
    "\n",
    "def resample_groupwise(df, groupby=scenario_set_col, rule='{}T'.format(SAMPLING_RATE), agg='mean'):\n",
    "    new_dfs = []\n",
    "    for group_key, sub_df in df.groupby(groupby):\n",
    "        sub_df = sub_df.set_index(date_col).resample(rule).agg(agg).reset_index()\n",
    "        sub_df[groupby] = group_key\n",
    "        new_dfs.append(sub_df)\n",
    "    return pd.concat(new_dfs, axis=0).reset_index(drop=True)\n",
    "\n",
    "def perform_cleanup(df):\n",
    "    valid_indices = df.index[df[target_col] >= 0]\n",
    "    min_valid = min(valid_indices)\n",
    "    max_valid = max(valid_indices)  \n",
    "    df = df.loc[min_valid:max_valid]\n",
    "    df[feature_cols_for_outliers] = fill_na(df[feature_cols_for_outliers])\n",
    "    df = fill_non_neg_feature_cols(df, non_neg_feature_cols) \n",
    "    return df.reset_index(drop=True)\n",
    "\n",
    "def fill_na_groupwise(df, groupby=scenario_set_col):\n",
    "    new_dfs = []\n",
    "    for group_key, sub_df in df.groupby(groupby):\n",
    "        sub_df = sub_df.sort_values(date_col).reset_index(drop=True)\n",
    "        sub_df = perform_cleanup(sub_df)\n",
    "        sub_df = sub_df.set_index(date_col)\n",
    "        sub_df_target = sub_df[[target_col]].copy()\n",
    "        sub_df = sub_df.resample(pd.Timedelta(minutes=SAMPLING_RATE)).mean().reset_index()\n",
    "        sub_df_target = sub_df_target.resample('{}T'.format(SAMPLING_RATE)).last().reset_index()\n",
    "        sub_df[target_col] = sub_df_target[[target_col]]\n",
    "        new_dfs.append(sub_df)\n",
    "    new_df = pd.concat(new_dfs, axis=0).reset_index(drop=True)\n",
    "    return new_df\n"
   ]
  },
  {
   "cell_type": "markdown",
   "metadata": {
    "id": "LQsqhxOrQZxf"
   },
   "source": [
    "**perform_preprocessing** does the following feature Engineering steps: \n",
    "* Converted wind speed into wind velocity vector (velocity along x and y axes)\n",
    "* Converted Azimuth angle in agree to sin and cos values as they better captures the cyclic nature.\n",
    "* Used Forward-Fill (ffill method in pandas) to fill the missing values in target column.\n",
    "* Convert date to cyclic features to capture seasons"
   ]
  },
  {
   "cell_type": "code",
   "execution_count": 11,
   "metadata": {
    "id": "lmzRw_peQABg"
   },
   "outputs": [],
   "source": [
    "def perform_preprocessing(df,img_df, img_delay_tolerance_duration):\n",
    "    peak_wind_speed_col = 'Peak Wind Speed @ 6ft [m/s]'\n",
    "    avg_wind_dir_col = 'Avg Wind Direction @ 6ft [deg from N]'\n",
    "    azimuth_angle_col = 'Azimuth Angle [degrees]'\n",
    "\n",
    "    wind_speed = pd.Series(df.pop(peak_wind_speed_col))\n",
    "    bad_wv = wind_speed < 0\n",
    "    wind_speed[bad_wv] = 0.0\n",
    "    wind_angle = df.pop(avg_wind_dir_col)*np.pi / 180\n",
    "\n",
    "    df['Wind x'] = wind_speed*np.cos(wind_angle)\n",
    "    df['Wind y'] = wind_speed*np.sin(wind_angle)\n",
    "\n",
    "    azimuth_angle = df.pop(azimuth_angle_col) * np.pi/180\n",
    "    df['Azimuth sin'] = np.sin(azimuth_angle)\n",
    "    df['Azimuth cos'] = np.cos(azimuth_angle)\n",
    "\n",
    "    day = 24*60*60\n",
    "    year = (365.2425)*day\n",
    "\n",
    "    df = df.join(img_df.set_index(date_col)[img_cols], how='left', on=date_col)\n",
    "    df[img_cols] = df[img_cols].fillna(method='ffill', limit=img_delay_tolerance_duration)\n",
    "    df[img_cols] = df[img_cols].fillna(img_unavailable)\n",
    "    df[[scenario_set_col, img_index_col]] = df[[scenario_set_col, img_index_col]].astype(np.int32)\n",
    "\n",
    "    df[day_sine_col], df[day_cos_col] = convert_time_stamp_to_vector(df[date_col], freq='day')\n",
    "    target_dates = df[date_col] + pd.Timedelta(minutes=INPUT_STEPS*SAMPLING_RATE)\n",
    "    df[target_day_sine_col], df[target_day_cos_col] = convert_time_stamp_to_vector(target_dates, freq='day')\n",
    "    df[year_sine_col], df[year_cos_col] = convert_time_stamp_to_vector(df[date_col], freq='year')\n",
    "    \n",
    "    df = df.drop(columns=[is_train_col])\n",
    "    return df\n"
   ]
  },
  {
   "cell_type": "code",
   "execution_count": 12,
   "metadata": {
    "id": "98_QFt3kc_6R"
   },
   "outputs": [
    {
     "name": "stdout",
     "output_type": "stream",
     "text": [
      "After clearing outliers (527040, 18) (28091, 18) (110000, 18) (11269, 18)\n",
      "After perform_preprocessing (28091, 27) (11269, 27)\n"
     ]
    }
   ],
   "source": [
    "clean_df = pd.concat([train_df, test_df], axis=0).reset_index(drop=True)\n",
    "clean_df = fill_outliers(clean_df, feature_cols_for_outliers)\n",
    "train_df_cleaned = clean_df[clean_df[is_train_col]].reset_index(drop=True)\n",
    "train_df_cleaned = fill_na_groupwise(train_df_cleaned, scenario_set_col)\n",
    "test_df_cleaned = clean_df[~clean_df[is_train_col]].reset_index(drop=True)\n",
    "test_df_cleaned = fill_na_groupwise(test_df_cleaned, scenario_set_col)\n",
    "print(\"After clearing outliers\", train_df.shape, train_df_cleaned.shape, test_df.shape, test_df_cleaned.shape)\n",
    "del(clean_df)\n",
    "train_df_cleaned = perform_preprocessing(train_df_cleaned, train_image_paths_df, IMG_DELAY_TOLERANCE*SAMPLING_RATE)\n",
    "test_df_cleaned = perform_preprocessing(test_df_cleaned, test_image_paths_df, IMG_DELAY_TOLERANCE*SAMPLING_RATE)\n",
    "print(\"After perform_preprocessing\", train_df_cleaned.shape, test_df_cleaned.shape)"
   ]
  },
  {
   "cell_type": "markdown",
   "metadata": {},
   "source": [
    "### Clustering"
   ]
  },
  {
   "cell_type": "code",
   "execution_count": 13,
   "metadata": {},
   "outputs": [
    {
     "name": "stdout",
     "output_type": "stream",
     "text": [
      "After clustering (28091, 28) (11269, 28)\n",
      "Train\n",
      " 3    11395\n",
      "2     7828\n",
      "0     5346\n",
      "1     3522\n",
      "Name: cluster, dtype: int64 \n",
      "Test\n",
      " 2    5549\n",
      "3    4585\n",
      "1    1135\n",
      "Name: cluster, dtype: int64\n"
     ]
    }
   ],
   "source": [
    "num_clusters=4\n",
    "cluster_cols = time_series_cols\n",
    "train_df_agg = train_df_cleaned.groupby(scenario_set_col).mean()\n",
    "test_df_agg = test_df_cleaned.groupby(scenario_set_col).mean()\n",
    "\n",
    "def apply_kmeans_clustering():\n",
    "    cluster_scaler = StandardScaler()\n",
    "    train_df_agg_scaled = cluster_scaler.fit_transform(train_df_agg[cluster_cols])\n",
    "    test_df_agg_scaled = cluster_scaler.transform(test_df_agg[cluster_cols])\n",
    "\n",
    "    kmeans = KMeans(n_clusters=num_clusters)\n",
    "    train_df_agg[cluster_col] = kmeans.fit_predict(train_df_agg_scaled)\n",
    "    test_df_agg[cluster_col] = kmeans.predict(test_df_agg_scaled)\n",
    "    \n",
    "def apply_date_based_clustering():\n",
    "    def map_to_cluster(month):\n",
    "        if month < 4 or month > 9:\n",
    "            return 0\n",
    "        else:\n",
    "            return 1\n",
    "    train_df_agg[cluster_col] = train_df_agg[date_col].dt.month.apply(map_to_cluster)\n",
    "    test_df_agg[cluster_col] = test_df_agg[date_col].dt.month.apply(map_to_cluster)\n",
    "\n",
    "apply_kmeans_clustering()\n",
    "\n",
    "train_df_agg = train_df_agg.reset_index()\n",
    "test_df_agg = test_df_agg.reset_index()\n",
    "train_df_cleaned[cluster_col] = pd.merge(train_df_cleaned[[scenario_set_col]], train_df_agg[[scenario_set_col, cluster_col]], \n",
    "                                   how='left', on=scenario_set_col)[cluster_col]\n",
    "test_df_cleaned[cluster_col] = pd.merge(test_df_cleaned[[scenario_set_col]], test_df_agg[[scenario_set_col, cluster_col]], \n",
    "                                   how='left', on=scenario_set_col)[cluster_col]\n",
    "print(\"After clustering\", train_df_cleaned.shape, test_df_cleaned.shape)\n",
    "print(\"Train\\n\", train_df_cleaned[cluster_col].value_counts(),\"\\nTest\\n\", test_df_cleaned[cluster_col].value_counts())"
   ]
  },
  {
   "cell_type": "code",
   "execution_count": 14,
   "metadata": {},
   "outputs": [
    {
     "data": {
      "image/png": "[encoded data removed]",
      "text/plain": [
       "<Figure size 432x288 with 1 Axes>"
      ]
     },
     "metadata": {
      "needs_background": "light"
     },
     "output_type": "display_data"
    }
   ],
   "source": [
    "def draw_trend(df, scenario_set):\n",
    "    df = df.copy().set_index(date_col)\n",
    "    target = df[df[scenario_set_col]==scenario_set][target_col]\n",
    "    target_diff = target - target.shift(1)\n",
    "    target_diff.plot()\n",
    "draw_trend(train_df_cleaned, 20200910)"
   ]
  },
  {
   "cell_type": "code",
   "execution_count": 15,
   "metadata": {},
   "outputs": [
    {
     "data": {
      "text/plain": [
       "<AxesSubplot:xlabel='DATE (YYYY/MM/DD)_MST'>"
      ]
     },
     "execution_count": 15,
     "metadata": {},
     "output_type": "execute_result"
    },
    {
     "data": {
      "image/png": "[encoded data removed]",
      "text/plain": [
       "<Figure size 432x288 with 1 Axes>"
      ]
     },
     "metadata": {
      "needs_background": "light"
     },
     "output_type": "display_data"
    }
   ],
   "source": [
    "df = train_df_cleaned.copy().set_index(date_col)\n",
    "df[[target_col]].resample('1D').std().plot()"
   ]
  },
  {
   "cell_type": "markdown",
   "metadata": {
    "id": "_gA6SG0DOsJC"
   },
   "source": [
    "Relation between features and target"
   ]
  },
  {
   "cell_type": "code",
   "execution_count": 16,
   "metadata": {
    "colab": {
     "base_uri": "https://localhost:8080/"
    },
    "id": "HBACOUU0KoPH",
    "outputId": "276deac7-0d7b-493e-d4fa-2d82cddcb0d4",
    "scrolled": false
   },
   "outputs": [],
   "source": [
    "# print(\"Train df:\\n\", make_mi_scores(train_df_cleaned.loc[:, feature_cols], train_df_cleaned[target_col]))\n",
    "# print(\"Test df:\\n\", make_mi_scores(test_df_cleaned.loc[:, feature_cols], test_df_cleaned[target_col]))"
   ]
  },
  {
   "cell_type": "markdown",
   "metadata": {
    "id": "H8Vbvs4fR0rc"
   },
   "source": [
    "**prepare_timeseries_records** function takes time series dataset coverts to multi-step regression problem.\n",
    "\n",
    "Example: This function converts following dataframe\n",
    "\n",
    "Time | Feature1 | Feature2\n",
    "-----|----------|--------\n",
    "T1   | 1.1 | 2.1 \n",
    "T2   | 1.2 | 2.2\n",
    "T3   | 1.3 | 2.3 \n",
    "\n",
    "to\n",
    "\n",
    "Feature1-1 | Feature2-1 | Feature1-2 | Feature2-2 \n",
    "-----------|------------|------------|-----------\n",
    "1.1        | 1.2        | 2.1        | 2.2 \n",
    "1.2        | 1.3        | 2.2        | 2.3 \n"
   ]
  },
  {
   "cell_type": "markdown",
   "metadata": {
    "id": "gBKLqSK6VrIt"
   },
   "source": [
    "**prepare_dfs** groups dataset by date/scenario and creates train and test datasets using above functions.\n",
    "* We are grouping dataset by date so that data is not combined across different dates as we need to predict using data within a day in the test set. \n",
    "* We are also ignoring data with missing values from at start and end of the day. \n"
   ]
  },
  {
   "cell_type": "code",
   "execution_count": 17,
   "metadata": {},
   "outputs": [],
   "source": [
    "def prepare_index_rages(day_index_start, day_index_end, min_feature_steps,\n",
    "                        max_feature_steps, target_steps):\n",
    "    total_end_range = np.arange(day_index_start+min_feature_steps+target_steps, day_index_end+1).reshape(-1,1)\n",
    "    feature_end_range = total_end_range - target_steps\n",
    "    steps_to_generate = np.arange(min_feature_steps, max_feature_steps+1, 3).reshape(1, -1)\n",
    "    feature_start_range = np.subtract(feature_end_range, steps_to_generate)\n",
    "    feature_start_range[feature_start_range<day_index_start]=day_index_start\n",
    "    feature_start_range = feature_start_range.min(axis=1, keepdims=True)\n",
    "    feature_steps_range = feature_end_range - feature_start_range\n",
    "    return np.hstack((feature_start_range, feature_end_range, total_end_range, feature_steps_range))\n",
    "\n",
    "def filter_data_with_images(df_img, df_idx):\n",
    "    def images_available(row):\n",
    "        feature_start = int(row[feature_start_idx_col])\n",
    "        feature_end = int(row[feature_end_idx_col])\n",
    "        return df_img.loc[feature_end, img_index_col]!=img_unavailable\n",
    "    images_indexes_mask = df_idx.apply(images_available, axis=1)\n",
    "    return df_idx[images_indexes_mask].reset_index()\n",
    "\n",
    "def prepare_dfs_for_datasets(combined_df, selected_scenarios, min_feature_steps=INPUT_STEPS, \n",
    "                             max_feature_steps=INPUT_STEPS, target_steps=OUTPUT_STEPS):\n",
    "    data_df = combined_df\n",
    "    if selected_scenarios is not None:\n",
    "        data_df = combined_df[combined_df[scenario_set_col].isin(selected_scenarios)].reset_index(drop=True)\n",
    "    idx_dfs = []\n",
    "\n",
    "    for group_key, df in data_df.groupby(scenario_set_col):\n",
    "        df = df.sort_values(date_col)\n",
    "        # As range is exclusive of last element, we need to add 1 to df.index[-1], to make it inclusive\n",
    "        idx_ranges = prepare_index_rages(df.index[0], df.index[-1], min_feature_steps, \n",
    "                                         max_feature_steps, target_steps)\n",
    "        if len(idx_ranges) > 0:\n",
    "            idx_df = pd.DataFrame(idx_ranges, columns=[feature_start_idx_col, feature_end_idx_col,\n",
    "                                                       total_end_idx_col, feature_steps_col])\n",
    "            idx_df[cluster_col] = df.loc[df.index[0], cluster_col]\n",
    "            idx_df[day_start_idx_col] = df.index[0]\n",
    "            idx_df[scenario_set_col] = group_key\n",
    "\n",
    "            idx_dfs.append(idx_df)\n",
    "\n",
    "    df_idx = pd.concat(idx_dfs, axis=0).reset_index(drop=True)\n",
    "    df_idx = filter_data_with_images(data_df[[img_index_col]], df_idx)\n",
    "    df_idx[index_col] = df_idx.index\n",
    "    data_df = data_df.set_index(date_col)\n",
    "    return data_df, df_idx[idx_df_cols]\n",
    "\n",
    "def compute_target_std_for_input_duration(df_target, df_idx):\n",
    "    def compute_target_std(row):\n",
    "        feature_start = int(row[feature_start_idx_col])\n",
    "        feature_end = int(row[feature_end_idx_col])\n",
    "        return df_target[feature_start:feature_end].std()\n",
    "    return df_idx.apply(compute_target_std, axis=1)\n",
    "\n",
    "def boosting_data_based_target_std(data_df, idx_df, factor=0.2):\n",
    "    target_std = compute_target_std_for_input_duration(train_data_df[target_col], train_idx_df)\n",
    "    probabilities = softmax(np.divide(target_std, np.max(target_std)))\n",
    "    final_indexes = train_idx_df.index.values\n",
    "    boosted_indexes = np.random.choice(probabilities.shape[0], int(probabilities.shape[0]*factor), p=probabilities)\n",
    "    final_indexes = np.append(final_indexes, boosted_indexes)\n",
    "    return idx_df.loc[final_indexes].reset_index(drop=True)\n",
    "    "
   ]
  },
  {
   "cell_type": "code",
   "execution_count": 18,
   "metadata": {
    "scrolled": true
   },
   "outputs": [
    {
     "name": "stdout",
     "output_type": "stream",
     "text": [
      "scenarios 485 90 91\n",
      "train (32390, 27) (32390, 24) (20198, 8) (26257, 8)\n",
      "val (3476, 27) (3476, 24) (1430, 8)\n",
      "test (3494, 27) (3494, 24) (1420, 8)\n",
      "pred (11269, 27) (11269, 24) (300, 8)\n"
     ]
    }
   ],
   "source": [
    "train_df_scenarios = train_df_cleaned[scenario_set_col].unique()\n",
    "test_df_scenarios = test_df_cleaned[scenario_set_col].unique()\n",
    "other_scenarios, val_scenarios = train_test_split(test_df_scenarios, test_size=0.3)\n",
    "other_scenarios, test_scenarios = train_test_split(other_scenarios, test_size=0.43)\n",
    "train_scenarios = np.append(train_df_scenarios, other_scenarios) \n",
    "\n",
    "print(\"scenarios\", len(train_scenarios), len(val_scenarios), len(test_scenarios))\n",
    "\n",
    "combined_df = pd.concat([train_df_cleaned, test_df_cleaned], axis=0).reset_index(drop=True)\n",
    "train_data_df, train_idx_df = prepare_dfs_for_datasets(combined_df, train_scenarios)\n",
    "val_data_df, val_idx_df = prepare_dfs_for_datasets(test_df_cleaned, val_scenarios)\n",
    "test_data_df, test_idx_df = prepare_dfs_for_datasets(test_df_cleaned, test_scenarios)\n",
    "pred_data_df, pred_idx_df_full = prepare_dfs_for_datasets(test_df_cleaned, None, target_steps=0)\n",
    "pred_idx_df = pred_idx_df_full.groupby(scenario_set_col).last().reset_index()[idx_df_cols]\n",
    "\n",
    "train_idx_df_boosted = boosting_data_based_target_std(train_data_df, train_idx_df, factor=0.3)\n",
    "train_idx_df_boosted = train_idx_df_boosted.sample(frac=1.0).reset_index(drop=True)\n",
    "\n",
    "train_idx_df_boosted[index_col] = train_idx_df_boosted.index\n",
    "val_idx_df[index_col] = val_idx_df.index\n",
    "test_idx_df[index_col] = test_idx_df.index\n",
    "pred_idx_df[index_col] = pred_idx_df[scenario_set_col]\n",
    "\n",
    "ts_scaler = MinMaxScaler()\n",
    "scaled_column_types = ['float16', 'float32', 'float64']\n",
    "scaled_columns = list(train_data_df.select_dtypes(include=scaled_column_types).columns)\n",
    "\n",
    "ts_scaler.fit(train_data_df[scaled_columns])\n",
    "train_data_df_scaled = pd.DataFrame(ts_scaler.transform(train_data_df[scaled_columns]), columns=scaled_columns)\n",
    "val_data_df_scaled = pd.DataFrame(ts_scaler.transform(val_data_df[scaled_columns]), columns=scaled_columns)\n",
    "test_data_df_scaled = pd.DataFrame(ts_scaler.transform(test_data_df[scaled_columns]), columns=scaled_columns)\n",
    "pred_data_df_scaled = pd.DataFrame(ts_scaler.transform(pred_data_df[scaled_columns]), columns=scaled_columns)\n",
    "\n",
    "print(\"train\", train_data_df.shape, train_data_df_scaled.shape, train_idx_df.shape, train_idx_df_boosted.shape)\n",
    "print(\"val\", val_data_df.shape, val_data_df_scaled.shape, val_idx_df.shape)\n",
    "print(\"test\", test_data_df.shape, test_data_df_scaled.shape, test_idx_df.shape)\n",
    "print(\"pred\", pred_data_df.shape, pred_data_df_scaled.shape, pred_idx_df.shape)"
   ]
  },
  {
   "cell_type": "markdown",
   "metadata": {},
   "source": [
    "Datasets Creation"
   ]
  },
  {
   "cell_type": "markdown",
   "metadata": {
    "id": "mmFmioPeLR2c"
   },
   "source": [
    "**Model Training**"
   ]
  },
  {
   "cell_type": "code",
   "execution_count": 19,
   "metadata": {},
   "outputs": [],
   "source": [
    "def extract_image(idx):\n",
    "    return all_images_tensor[idx]\n",
    "    \n",
    "def create_image_dataset(img_df, idx_df, img_col_index, cluster_id=None,):\n",
    "    \n",
    "    img_df_tensor = tf.cast(tf.convert_to_tensor(img_df[img_index_col].values), tf.int32)\n",
    "    def extract_image_idx(idx_row):\n",
    "        return img_df_tensor[idx_row[img_col_index]]\n",
    "    \n",
    "    ds = create_cluster_idx_dataset(idx_df, cluster_id=cluster_id)\n",
    "    ds = ds.map(extract_image_idx).map(extract_image)\n",
    "    return ds\n",
    "\n",
    "def create_images_dataset(img_df, idx_df, start_index, end_index, cluster_id=None,):\n",
    "    \n",
    "    img_df_tensor = tf.cast(tf.convert_to_tensor(img_df[img_index_col].values), tf.int32)\n",
    "    def extract_images(image_indexes):\n",
    "        return tf.map_fn(extract_image, image_indexes, fn_output_signature=tf.float32)\n",
    "    \n",
    "    def extract_image_indexes(idx_row):\n",
    "        image_indexes = img_df_tensor[idx_row[start_index]:idx_row[end_index]]\n",
    "        # image_indexes, _ = tf.unique(image_indexes)\n",
    "        valid_indexes_mask = tf.map_fn(lambda idx: idx != img_unavailable, image_indexes, \n",
    "                                       fn_output_signature=tf.bool)\n",
    "        return tf.boolean_mask(image_indexes, valid_indexes_mask)\n",
    "    \n",
    "    ds = create_cluster_idx_dataset(idx_df, cluster_id=cluster_id)\n",
    "    ds = ds.map(extract_image_indexes).map(extract_images)\n",
    "    return ds\n",
    "\n",
    "def create_cluster_idx_dataset(idx_df, cluster_id=None):\n",
    "    ds = tf.data.Dataset.from_tensor_slices(idx_df.values)\n",
    "    ds = ds.map(lambda elem: tf.cast(elem, tf.int32))\n",
    "    if cluster_id is not None:\n",
    "        ds = ds.filter(lambda elem: elem[cluster_idx] == cluster_id) \n",
    "    return ds\n",
    "\n",
    "def create_ts_dataset(ts_df, idx_df, end_index, start_index=None, steps=None, cluster_id=None, reshape=None):\n",
    "    if start_index is None and steps is None:\n",
    "        raise ValueError(\"either start_index or steps required\")\n",
    "#     bucket_bounderies = [13, 16, 19, 22, 25, 28, 31, 34]\n",
    "    ts_tensor = tf.convert_to_tensor(ts_df.values)\n",
    "    def extract_ts_records(row):\n",
    "        feature_start = row[start_index] if start_index is not None else row[end_index]-steps\n",
    "        features = ts_tensor[feature_start:row[end_index]]\n",
    "        return features\n",
    "    \n",
    "    def extract_ts_records_for_batch(rows):\n",
    "        return tf.map_fn(extract_ts_records, rows, fn_output_signature=tf.float64)\n",
    "    \n",
    "    ds = create_cluster_idx_dataset(idx_df, cluster_id=cluster_id) \n",
    " \n",
    "#     ds = ds.apply(tf.data.experimental.bucket_by_sequence_length(\n",
    "#                                     element_length_func=lambda elem: elem[-2],\n",
    "#                                     bucket_boundaries=bucket_bounderies,\n",
    "#                                     bucket_batch_sizes=np.repeat(batch_size, len(bucket_bounderies)+1)))\n",
    "    ds = ds.map(extract_ts_records)\n",
    "    if reshape is not None:\n",
    "        ds = ds.map(lambda elem: tf.reshape(elem, reshape))\n",
    "    return ds\n",
    "\n",
    "def create_agg_dataset(scaled, idx_df, cluster_id=None):\n",
    "    ts_tensor = tf.convert_to_tensor(scaled[target_col].values)\n",
    "    def compute_agg_features(idx_row):\n",
    "        day_ts = ts_tensor[idx_row[day_start_idx]:idx_row[feature_end_idx]]\n",
    "        input_steps_ts = ts_tensor[idx_row[feature_start_idx]:idx_row[feature_end_idx]]\n",
    "        day_mean = tf.math.reduce_mean(day_ts)\n",
    "        day_std = tf.math.reduce_std(day_ts)\n",
    "        input_steps_mean = tf.math.reduce_mean(input_steps_ts)\n",
    "        input_steps_std = tf.math.reduce_std(input_steps_ts)\n",
    "        return [[day_mean, day_std, input_steps_mean, input_steps_std]]\n",
    "    \n",
    "    ds = create_cluster_idx_dataset(idx_df, cluster_id) \n",
    "    ds = ds.map(compute_agg_features)\n",
    "    return ds\n",
    "\n",
    "def create_features_dataset(scaled_df, data_df, idx_df, cluster_id=None):\n",
    "    ts_ds = create_ts_dataset(scaled_df[time_series_cols], idx_df, feature_end_idx, \n",
    "                              start_index=feature_start_idx, cluster_id=cluster_id)\n",
    "    img_ds = create_image_dataset(data_df[img_cols], idx_df, feature_end_idx, cluster_id=cluster_id)\n",
    "#     img_ds = create_images_dataset(img_df, idx_df, feature_start_idx, feature_end_idx, cluster_id)\n",
    "    agg_ds = create_agg_dataset(scaled_df, idx_df, cluster_id=cluster_id)\n",
    "    target_dates_ds = create_ts_dataset(scaled_df[target_date_cols], idx_df, feature_end_idx, \n",
    "                                        steps=OUTPUT_STEPS, cluster_id=cluster_id)\n",
    "\n",
    "    return tf.data.Dataset.zip(((ts_ds, img_ds, agg_ds, target_dates_ds),))\n",
    "\n",
    "def create_dataset_with_labels(scaled_df, data_df, idx_df, cluster_id=None, batch_size=32):\n",
    "    features_ds = create_features_dataset(scaled_df, data_df, idx_df, cluster_id=cluster_id)\n",
    "    target_ds = create_ts_dataset(data_df[target_col], idx_df, total_end_idx, steps=OUTPUT_STEPS,\n",
    "                                  cluster_id=cluster_id, reshape=(OUTPUT_STEPS,))\n",
    "    return tf.data.Dataset.zip((features_ds, target_ds)).batch(batch_size).prefetch(tf.data.AUTOTUNE)"
   ]
  },
  {
   "cell_type": "code",
   "execution_count": 20,
   "metadata": {
    "scrolled": true
   },
   "outputs": [
    {
     "name": "stderr",
     "output_type": "stream",
     "text": [
      "2021-12-05 06:05:11.435715: I tensorflow/compiler/mlir/mlir_graph_optimization_pass.cc:176] None of the MLIR Optimization Passes are enabled (registered 2)\n",
      "2021-12-05 06:05:11.439659: I tensorflow/core/platform/profile_utils/cpu_utils.cc:114] CPU Frequency: 2195075000 Hz\n"
     ]
    }
   ],
   "source": [
    "train_target_ts_data = np.array(list(create_ts_dataset(train_data_df[target_col], train_idx_df_boosted, \n",
    "                                                    total_end_idx, steps=OUTPUT_STEPS,\n",
    "                                                       reshape=(OUTPUT_STEPS,)).as_numpy_iterator()))\n",
    "val_target_ts_data = np.array(list(create_ts_dataset(val_data_df[target_col], val_idx_df, total_end_idx, \n",
    "                                                     steps=OUTPUT_STEPS,reshape=(OUTPUT_STEPS,)).as_numpy_iterator()))\n",
    "test_target_ts_data = np.array(list(create_ts_dataset(test_data_df[target_col], test_idx_df, total_end_idx, \n",
    "                                                     steps=OUTPUT_STEPS,reshape=(OUTPUT_STEPS,)).as_numpy_iterator()))\n",
    "\n",
    "train_ds = create_dataset_with_labels(train_data_df_scaled, train_data_df, train_idx_df_boosted)\n",
    "val_ds = create_dataset_with_labels(val_data_df_scaled,  val_data_df, val_idx_df)\n",
    "test_ds = create_dataset_with_labels(test_data_df_scaled, test_data_df, test_idx_df)"
   ]
  },
  {
   "cell_type": "code",
   "execution_count": 21,
   "metadata": {
    "id": "YbQUQBOJIPes"
   },
   "outputs": [],
   "source": [
    "MAX_EPOCHS = 5\n",
    "\n",
    "def weighted_mae(y_true, y_pred):\n",
    " \n",
    "    loss = tf.abs(tf.subtract(y_pred, y_true))  # (batch_size, OUTPUT_STEPS)\n",
    "    \n",
    "    # multiplying the values with weights along batch dimension\n",
    "    loss = loss * tf.nn.softmax(tf.linspace(0.0, 0.5, OUTPUT_STEPS)) \n",
    "                \n",
    "    # summing both loss values along batch dimension \n",
    "    loss = tf.reduce_sum(loss, axis=1)        # (batch_size,)\n",
    "    \n",
    "    return loss\n",
    "\n",
    "def compile_and_fit(model, train_ds, val_ds, model_path, epochs=5, patience=3):\n",
    "    early_stopping = tf.keras.callbacks.EarlyStopping(monitor='val_mae', patience=patience, mode='min')\n",
    "    reduce_lr = tf.keras.callbacks.ReduceLROnPlateau( monitor='val_mae', factor=0.1, patience=patience,\n",
    "                                                     mode='min', min_delta=0.0001, cooldown=0, min_lr=0.0001)\n",
    "    model_checkpoint_callback = tf.keras.callbacks.ModelCheckpoint(filepath=model_path, monitor='val_mae',\n",
    "                                                                   mode='min', save_weights_only=True,\n",
    "                                                                   save_best_only=True)\n",
    "    \n",
    "    model.compile(loss=weighted_mae, optimizer='Adamax', metrics=['mae'])\n",
    "    return model.fit(train_ds, epochs=epochs, validation_data=val_ds,\n",
    "                      callbacks=[early_stopping, model_checkpoint_callback, reduce_lr])\n",
    "\n",
    "def create_conv_lstm_model(ix=img_x, iy=img_y):\n",
    "    cnn_lstm_input = tf.keras.Input(shape=(INPUT_STEPS, ix, iy, 3), name=\"img\") \n",
    "    img_features = tf.keras.layers.ConvLSTM2D(32, 3, activation=\"relu\",\n",
    "                                              return_sequences=True)(cnn_lstm_input)\n",
    "    img_features = tf.keras.layers.MaxPooling3D(pool_size=(1, 2, 2))(img_features)\n",
    "    img_features = tf.keras.layers.ConvLSTM2D(16, 3, activation=\"relu\",\n",
    "                                              return_sequences=True)(img_features)\n",
    "    img_features = tf.keras.layers.MaxPooling3D(pool_size=(1, 2, 2))(img_features)\n",
    "    img_features = tf.keras.layers.ConvLSTM2D(16, 3, activation=\"relu\",\n",
    "                                              return_sequences=True)(img_features)\n",
    "    img_features = tf.keras.layers.MaxPooling3D(pool_size=(1, 4, 4))(img_features)\n",
    "    cnn_lstm_output = tf.keras.layers.Reshape((INPUT_STEPS, -1))(img_features)\n",
    "    return tf.keras.Model(inputs=[cnn_lstm_input], outputs=[cnn_lstm_output], name=\"cnn-lstm\")\n",
    "\n",
    "def create_multi_conv_model(ix=img_x, iy=img_y):\n",
    "    cnn_input = tf.keras.Input(shape=(INPUT_STEPS, ix, iy, 3), name=\"img\") \n",
    "    img_features = tf.keras.layers.Conv2D(32, 3, activation=\"relu\")(cnn_input)\n",
    "    img_features = tf.keras.layers.MaxPooling3D(pool_size=(1, 2, 2))(img_features)\n",
    "    img_features = tf.keras.layers.Conv2D(16, 3, activation=\"relu\")(img_features)\n",
    "    img_features = tf.keras.layers.MaxPooling3D(pool_size=(1, 2, 2))(img_features)\n",
    "    img_features = tf.keras.layers.Conv2D(16, 3, activation=\"relu\")(img_features)\n",
    "    img_features = tf.keras.layers.MaxPooling3D(pool_size=(1, 4, 4))(img_features)\n",
    "    cnn_output = tf.keras.layers.Reshape((INPUT_STEPS, -1))(img_features)\n",
    "    return tf.keras.Model(inputs=[cnn_input], outputs=[cnn_output], name=\"cnn-multi\")\n",
    "    \n",
    "def create_single_conv_model(ix=img_x, iy=img_y):\n",
    "    cnn_input = tf.keras.Input(shape=(ix, iy, 3), name=\"img\")\n",
    "    img_features = tf.keras.layers.Conv2D(32, 3, activation=\"relu\")(cnn_input)\n",
    "    img_features = tf.keras.layers.MaxPooling2D(2)(img_features)\n",
    "    img_features = tf.keras.layers.Conv2D(16, 3, activation=\"relu\")(img_features)\n",
    "    img_features = tf.keras.layers.MaxPooling2D(2)(img_features)\n",
    "    img_features = tf.keras.layers.Conv2D(8, 3, activation=\"relu\")(img_features)\n",
    "    cnn_output = tf.keras.layers.GlobalMaxPooling2D()(img_features)\n",
    "    return tf.keras.Model(inputs=[cnn_input], outputs=[cnn_output], name=\"cnn\") \n",
    "    \n",
    "def create_model(ix=img_x, iy=img_y):\n",
    "            \n",
    "#     img_input = tf.keras.Input(shape=(INPUT_STEPS, ix, iy, 3), name=\"images\")\n",
    "    img_input = tf.keras.Input(shape=(ix, iy, 3), name=\"image_data\")\n",
    "    ts_input = tf.keras.Input(shape=(INPUT_STEPS, len(time_series_cols)), name='weather_data')\n",
    "    agg_input = tf.keras.Input(shape=(4,), name='aggregate_features')\n",
    "    target_dates_input = tf.keras.Input(shape=(OUTPUT_STEPS, len(target_date_cols)), name='target_time')\n",
    "    img_output = create_single_conv_model(ix, iy)(img_input)\n",
    "#     img_output = create_conv_lstm_model(ix, iy)(img_input)\n",
    "#     img_output = create_multi_conv_model(ix, iy)(img_input)\n",
    "    ts_features = tf.keras.layers.LSTM(32, return_sequences=False, name='input_time_series_processing')(ts_input)\n",
    "    all_features = tf.keras.layers.Concatenate(name='all_input_features')([ts_features, img_output, agg_input])\n",
    "    all_features = tf.keras.layers.RepeatVector(OUTPUT_STEPS, name='time_series_expansion')(all_features)\n",
    "    all_features = tf.keras.layers.Concatenate(name='target_time_association')([all_features, target_dates_input])\n",
    "    all_features = tf.keras.layers.LSTM(128, return_sequences=False, name='output_time_series_processing')(all_features)\n",
    "    all_features = tf.keras.layers.Dense(128, activation='relu')(all_features)\n",
    "    final_output = tf.keras.layers.Dense(OUTPUT_STEPS, name='output')(all_features)\n",
    "    model = tf.keras.Model(inputs=[ts_input, img_input, agg_input, target_dates_input], outputs=[final_output])\n",
    "    \n",
    "    return model\n",
    "\n",
    "models_location = os.path.join(data_path, \"models\", \"ts-images-agg-td\")\n",
    "base_model_location = os.path.join(models_location, \"base\")\n",
    "\n",
    "def train_cluster(cluster_id, base_model=None, base_model_location=None):\n",
    "    print(\"training for\", cluster_id)\n",
    "    model = create_model()\n",
    "\n",
    "    cluster_model_location = os.path.join(models_location, \"cluster-{}\".format(cluster_id))\n",
    "    model_path = os.path.join(cluster_model_location, \"checkpoint\")\n",
    "    \n",
    "    if base_model is not None:\n",
    "        model.set_weights(base_model.get_weights())\n",
    "    elif base_model_location is not None:\n",
    "        model.load_weights(tf.train.latest_checkpoint(base_model_location))\n",
    "        \n",
    "    cluster_train_ds = create_dataset_with_labels(train_data_df_scaled, train_data_df, \n",
    "                                                  train_idx_df_boosted, cluster_id=cluster_id)\n",
    "    cluster_val_ds = create_dataset_with_labels(val_data_df_scaled,  val_data_df, \n",
    "                                                val_idx_df, cluster_id=cluster_id)\n",
    "    compile_and_fit(model, cluster_train_ds, cluster_val_ds, model_path, epochs=100, patience=5)\n",
    "\n",
    "    best_model = create_model()\n",
    "    best_model.load_weights(tf.train.latest_checkpoint(cluster_model_location))\n",
    "    best_model.compile(loss='mae', optimizer='Adamax')\n",
    "    clear_output()\n",
    "        \n",
    "    return best_model\n",
    "\n",
    "def train_clusters(base_model=None, base_model_location=None):\n",
    "    cluster_models = []\n",
    "    for cluster_id in range(num_clusters):\n",
    "        cluster_models.append(train_cluster(cluster_id, base_model=base_model, \n",
    "                                            base_model_location=base_model_location))\n",
    "    return cluster_models\n",
    "\n",
    "def forward_fill_predictions(predictions):\n",
    "    predictions[predictions < 0] = np.nan\n",
    "    df = pd.DataFrame(predictions).fillna(method=\"ffill\", axis=1).fillna(method=\"bfill\", axis=1).fillna(0)\n",
    "    return df.values\n",
    "\n",
    "def predict_with_base_model(model, ts_ds, idx_df):\n",
    "    predictions = base_best_model.predict(ts_ds, verbose=0)\n",
    "    predictions = forward_fill_predictions(predictions)\n",
    "    final_predictions = np.hstack([idx_df[[index_col, cluster_col]].values, predictions])\n",
    "    return final_predictions[final_predictions[:, 0].argsort()] \n",
    "    \n",
    "def predict_with_single_cluster_model(models, scaled_df, data_df, idx_df):\n",
    "    all_predictions = []\n",
    "    for cluster_id, model in enumerate(models):\n",
    "        feature_ds = create_features_dataset(scaled_df, data_df, idx_df, cluster_id).batch(32)\n",
    "        predictions = forward_fill_predictions(model.predict(feature_ds, verbose=0))\n",
    "        cluster_idx_arr = idx_df[idx_df[cluster_col]==cluster_id][[index_col, cluster_col]].values                          \n",
    "        all_predictions.append(np.hstack([cluster_idx_arr, predictions]))                                                              \n",
    "    final_predictions = np.vstack(all_predictions)\n",
    "    return final_predictions[final_predictions[:, 0].argsort()]\n",
    "\n"
   ]
  },
  {
   "cell_type": "code",
   "execution_count": 22,
   "metadata": {},
   "outputs": [],
   "source": [
    "# print(create_single_conv_model().summary())\n",
    "# tf.keras.utils.plot_model(create_model(), to_file=\"model.png\")"
   ]
  },
  {
   "cell_type": "markdown",
   "metadata": {
    "id": "csnl86VHbU3X"
   },
   "source": [
    "We used combination of LSTM (long short term memory) and dense layers to train the model."
   ]
  },
  {
   "cell_type": "code",
   "execution_count": 23,
   "metadata": {
    "scrolled": false
   },
   "outputs": [
    {
     "name": "stdout",
     "output_type": "stream",
     "text": [
      "CPU times: user 6min 7s, sys: 2min 32s, total: 8min 40s\n",
      "Wall time: 5min 51s\n"
     ]
    }
   ],
   "source": [
    "%%time\n",
    "def train_models(iterations=30):  \n",
    "    models = []\n",
    "    for i in range(iterations):\n",
    "        print(\"Model iteration\", i)\n",
    "        model = create_model()\n",
    "        iter_model_location = os.path.join(base_model_location, \"iteration-{}\".format(i)) \n",
    "        model_path = os.path.join(iter_model_location, \"checkpoint\")\n",
    "        compile_and_fit(model, train_ds, val_ds, model_path, epochs=100, patience=3)\n",
    "        iter_best_model = create_model()\n",
    "        iter_best_model.load_weights(tf.train.latest_checkpoint(iter_model_location))\n",
    "        iter_best_model.compile(loss='mae', optimizer='Adamax')\n",
    "        clear_output()\n",
    "        models.append((iter_best_model, iter_model_location))\n",
    "\n",
    "    return models\n",
    "\n",
    "iter_models = train_models(1)\n",
    "base_best_model, base_best_model_location = iter_models[0]\n",
    "\n",
    "# cluster_models = train_clusters(base_model=base_best_model)"
   ]
  },
  {
   "cell_type": "code",
   "execution_count": 25,
   "metadata": {},
   "outputs": [
    {
     "name": "stdout",
     "output_type": "stream",
     "text": [
      "Train loss: with base= 89.66184837179253\n",
      "Val loss: with base= 84.18511648525015\n",
      "Test loss: with base= 101.15285218500792\n",
      "CPU times: user 26.3 s, sys: 15.2 s, total: 41.5 s\n",
      "Wall time: 27 s\n"
     ]
    }
   ],
   "source": [
    "%%time\n",
    "train_preds_base_model = predict_with_base_model(base_best_model, train_ds, train_idx_df_boosted)\n",
    "val_preds_base_model = predict_with_base_model(base_best_model, val_ds, val_idx_df)\n",
    "test_preds_base_model = predict_with_base_model(base_best_model, test_ds, test_idx_df)\n",
    "\n",
    "train_errors = np.abs(np.subtract(train_target_ts_data, train_preds_base_model[:, -OUTPUT_STEPS:]))\n",
    "val_errors = np.abs(np.subtract(val_target_ts_data, val_preds_base_model[:, -OUTPUT_STEPS:]))\n",
    "test_errors = np.abs(np.subtract(test_target_ts_data, test_preds_base_model[:, -OUTPUT_STEPS:]))\n",
    "\n",
    "\n",
    "print(\"Train loss:\", \"with base=\", train_errors.mean())\n",
    "print(\"Val loss:\", \"with base=\", val_errors.mean())\n",
    "print(\"Test loss:\", \"with base=\", test_errors.mean())\n",
    "\n",
    "\n",
    "\n",
    "# train_errors_df = pd.concat([train_idx_df, pd.DataFrame(train_errors, columns=pred_df_cols)], axis=1)\n",
    "# val_errors_df = pd.concat([val_idx_df, pd.DataFrame(val_errors, columns=pred_df_cols)], axis=1)\n",
    "# test_errors_df = pd.concat([test_idx_df, pd.DataFrame(test_errors, columns=pred_df_cols)], axis=1)\n",
    "\n",
    "# train_preds_cluster_models = predict_with_single_cluster_model(cluster_models, train_data_df_scaled, \n",
    "#                                                            train_data_df, train_idx_df_boosted)\n",
    "# val_preds_cluster_models = predict_with_single_cluster_model(cluster_models, val_data_df_scaled,\n",
    "#                                                          val_data_df, val_idx_df)\n",
    "# test_preds_cluster_models = predict_with_single_cluster_model(cluster_models, test_data_df_scaled, \n",
    "#                                                           test_data_df, test_idx_df)\n",
    "\n",
    "# print(\"Train loss:\", \"with base=\", train_errors.mean(), \n",
    "#       \"with cluster=\", mean_absolute_error(train_target_ts_data, train_preds_cluster_models[:, -OUTPUT_STEPS:]))\n",
    "# print(\"Val loss:\", \"with base=\", val_errors.mean(), \n",
    "#       \"with cluster=\", mean_absolute_error(val_target_ts_data, val_preds_cluster_models[:, -OUTPUT_STEPS:]))\n",
    "# print(\"Test loss:\", \"with base=\", test_errors.mean(), \n",
    "#       \"with cluster=\", mean_absolute_error(test_target_ts_data, test_preds_cluster_models[:, -OUTPUT_STEPS:]))\n"
   ]
  },
  {
   "cell_type": "markdown",
   "metadata": {},
   "source": [
    "With images, target dates, agg\n",
    "Train loss: with base= 84.253975716888\n",
    "Val loss: with base= 88.95696007541926\n",
    "Test loss: with base= 98.09539650769578\n",
    "\n",
    "With target dates, agg\n",
    "Train loss: with base= 90.65581773547507\n",
    "Val loss: with base= 94.01840883064216\n",
    "Test loss: with base= 97.23911066524408"
   ]
  },
  {
   "cell_type": "markdown",
   "metadata": {},
   "source": [
    "### Results Analysis"
   ]
  },
  {
   "cell_type": "code",
   "execution_count": 26,
   "metadata": {},
   "outputs": [
    {
     "name": "stdout",
     "output_type": "stream",
     "text": [
      "Uploading /home/ai_team26/shell_hack/load_dir/data_to_nvidia/submissions/predictions.csv\n",
      "Updated 1UEoshMeBb5lCll29clUYqyVN-i3_HFjd at 54.1 KB/s, total 65.9 KB\n",
      "Sun Dec  5 19:41:49 IST 2021\n"
     ]
    }
   ],
   "source": [
    "pred_ds = create_features_dataset(pred_data_df_scaled, pred_data_df, pred_idx_df).batch(32)\n",
    "base_predictions = predict_with_base_model(base_best_model, pred_ds, pred_idx_df)\n",
    "# cluster_predictions = predict_with_single_cluster_model(cluster_models, pred_data_df_scaled, \n",
    "#                                                         pred_data_df, pred_idx_df)\n",
    "predictions = base_predictions[:, -OUTPUT_STEPS:]\n",
    "final_pred_df = pd.DataFrame(predictions, columns=pred_df_cols)\n",
    "final_pred_df[scenario_set_col] = pred_idx_df[scenario_set_col]\n",
    "final_pred_df.set_index(scenario_set_col, inplace=True)\n",
    "pred_location = os.path.join(data_path,'submissions/{}_predictions.csv').format(datetime.datetime.now().isoformat())\n",
    "final_pred_df.to_csv(pred_location)\n",
    "!cp {pred_location} {pred_default_location}\n",
    "!{gdrive} update {drive_pred_id} {pred_default_location}\n",
    "!TZ=\":Asia/Kolkata\" date"
   ]
  },
  {
   "cell_type": "markdown",
   "metadata": {
    "id": "Y-gi9UdQ-KnN"
   },
   "source": [
    "test_loss= 81.67253112792969 -> 109.5 (dense 512)\n",
    "test_loss= 78.0941162109375  -> 120 (dense 512) without outliers\n",
    "test_loss= 72.43746948242188 -> 108.96 (lstm 32, dense 512)\n",
    "test_loss= 68.37921142578125 -> 117.99 (lstm 32, dense 512) without outliers, standard scaler\n",
    "test_loss= 72.77073669433594 ->  99.33 (lstm 32, dense 512) without outliers, minmax scaler\n",
    "test_loss= 79.43337249755864 ->  104.6 (lstm 32) without outliers, minmax scaler\n",
    "test_loss= 68.37921142578125 -> 117.99 (lstm 32, dense 512) without outliers, output layer with relu\n",
    "test_loss= 67.93959045410156 -> 108.84 (lstm 32, dense 512) without outliers\n",
    "test_loss= 72.69206237792969 -> 106.98 (lstm 48, dense 512) without outliers\n",
    "test_loss= 59.73178482055664 -> 118.53 (lstm 64, dense 512) without outliers\n",
    "test_loss= 73.12600708007812 -> 111.04 (lstm 48, dense 480)\n",
    "test_loss= 62.53179550170898 -> 110.31 (lstm 48, dense 512)\n",
    "test_loss= 56.076480865478516 -> 119.28 (dense 512, dense 512)\n",
    "test_loss= 59.09439468383789 -> 114.99 (lstm 32, lstm 32, dense 512)"
   ]
  },
  {
   "cell_type": "markdown",
   "metadata": {
    "id": "6ni4obNQnW90"
   },
   "source": [
    "**Prediction**\n",
    "* Predicts target values and generates final submission file."
   ]
  },
  {
   "cell_type": "code",
   "execution_count": 27,
   "metadata": {},
   "outputs": [
    {
     "name": "stdout",
     "output_type": "stream",
     "text": [
      "Downloading Public_LeaderBoard.csv -> /home/ai_team26/shell_hack/load_dir/data_to_nvidia/Public_LeaderBoard.csv\r\n",
      "Downloaded 1k79ujc-fbPhlPjg2ROJkIYOsLUdX-Uvm at 1.1 KB/s, total 1.1 KB\r\n"
     ]
    },
    {
     "data": {
      "text/html": [
       "<div>\n",
       "<style scoped>\n",
       "    .dataframe tbody tr th:only-of-type {\n",
       "        vertical-align: middle;\n",
       "    }\n",
       "\n",
       "    .dataframe tbody tr th {\n",
       "        vertical-align: top;\n",
       "    }\n",
       "\n",
       "    .dataframe thead th {\n",
       "        text-align: right;\n",
       "    }\n",
       "</style>\n",
       "<table border=\"1\" class=\"dataframe\">\n",
       "  <thead>\n",
       "    <tr style=\"text-align: right;\">\n",
       "      <th></th>\n",
       "      <th>Team</th>\n",
       "      <th>MAE</th>\n",
       "    </tr>\n",
       "  </thead>\n",
       "  <tbody>\n",
       "    <tr>\n",
       "      <th>0</th>\n",
       "      <td>DD-Team</td>\n",
       "      <td>89.62179723477286</td>\n",
       "    </tr>\n",
       "    <tr>\n",
       "      <th>1</th>\n",
       "      <td>SukantaBasu</td>\n",
       "      <td>93.73324490608064</td>\n",
       "    </tr>\n",
       "    <tr>\n",
       "      <th>2</th>\n",
       "      <td>esk.AI</td>\n",
       "      <td>98.56940944274808</td>\n",
       "    </tr>\n",
       "    <tr>\n",
       "      <th>3</th>\n",
       "      <td>Gaurav-Ghorpade-Team</td>\n",
       "      <td>98.9550275155406</td>\n",
       "    </tr>\n",
       "    <tr>\n",
       "      <th>4</th>\n",
       "      <td>peaceHai</td>\n",
       "      <td>98.96804747739692</td>\n",
       "    </tr>\n",
       "    <tr>\n",
       "      <th>5</th>\n",
       "      <td>alexandra</td>\n",
       "      <td>100.62813957685279</td>\n",
       "    </tr>\n",
       "    <tr>\n",
       "      <th>6</th>\n",
       "      <td>DataWizards</td>\n",
       "      <td>104.50636655889127</td>\n",
       "    </tr>\n",
       "    <tr>\n",
       "      <th>7</th>\n",
       "      <td>MCL</td>\n",
       "      <td>105.61358912732464</td>\n",
       "    </tr>\n",
       "    <tr>\n",
       "      <th>8</th>\n",
       "      <td>Bounty-the-cat</td>\n",
       "      <td>106.38436001863967</td>\n",
       "    </tr>\n",
       "    <tr>\n",
       "      <th>9</th>\n",
       "      <td>Santhosh-S-Sankar-Team</td>\n",
       "      <td>107.2841485750636</td>\n",
       "    </tr>\n",
       "    <tr>\n",
       "      <th>10</th>\n",
       "      <td>Sunspot-Squad</td>\n",
       "      <td>115.16612737814278</td>\n",
       "    </tr>\n",
       "    <tr>\n",
       "      <th>11</th>\n",
       "      <td>AbhayKshirsagar-Team</td>\n",
       "      <td>115.8483559033079</td>\n",
       "    </tr>\n",
       "    <tr>\n",
       "      <th>12</th>\n",
       "      <td>Akira.Insights</td>\n",
       "      <td>116.21697977618678</td>\n",
       "    </tr>\n",
       "    <tr>\n",
       "      <th>13</th>\n",
       "      <td>Ashay-Team</td>\n",
       "      <td>118.04573582697199</td>\n",
       "    </tr>\n",
       "    <tr>\n",
       "      <th>14</th>\n",
       "      <td>Karthi-07Shell</td>\n",
       "      <td>118.49774952671893</td>\n",
       "    </tr>\n",
       "    <tr>\n",
       "      <th>15</th>\n",
       "      <td>SUNNY</td>\n",
       "      <td>135.79889547521194</td>\n",
       "    </tr>\n",
       "    <tr>\n",
       "      <th>16</th>\n",
       "      <td>Ruchita-Varun-Ashish-Team</td>\n",
       "      <td>140.9672551908397</td>\n",
       "    </tr>\n",
       "    <tr>\n",
       "      <th>17</th>\n",
       "      <td>ARSE</td>\n",
       "      <td>154.68816631743005</td>\n",
       "    </tr>\n",
       "    <tr>\n",
       "      <th>18</th>\n",
       "      <td>Meson-Labs</td>\n",
       "      <td>158.0494617996183</td>\n",
       "    </tr>\n",
       "    <tr>\n",
       "      <th>19</th>\n",
       "      <td>ViyatCast</td>\n",
       "      <td>167.81323744026724</td>\n",
       "    </tr>\n",
       "    <tr>\n",
       "      <th>20</th>\n",
       "      <td>Neo</td>\n",
       "      <td>192.56524692620872</td>\n",
       "    </tr>\n",
       "    <tr>\n",
       "      <th>21</th>\n",
       "      <td>KrishnaKhadka</td>\n",
       "      <td>213.9130211707717</td>\n",
       "    </tr>\n",
       "    <tr>\n",
       "      <th>22</th>\n",
       "      <td>DataDosth</td>\n",
       "      <td>233.22117296437656</td>\n",
       "    </tr>\n",
       "    <tr>\n",
       "      <th>23</th>\n",
       "      <td>Aintium</td>\n",
       "      <td>426.19356309049846</td>\n",
       "    </tr>\n",
       "    <tr>\n",
       "      <th>24</th>\n",
       "      <td>YNWA</td>\n",
       "      <td>953.8120909580664</td>\n",
       "    </tr>\n",
       "    <tr>\n",
       "      <th>25</th>\n",
       "      <td>Vardhan</td>\n",
       "      <td>predictions.csv file does not exist</td>\n",
       "    </tr>\n",
       "    <tr>\n",
       "      <th>26</th>\n",
       "      <td>Tim_Wartel</td>\n",
       "      <td>predictions.csv file does not exist</td>\n",
       "    </tr>\n",
       "    <tr>\n",
       "      <th>27</th>\n",
       "      <td>Team-ML-IITMadras</td>\n",
       "      <td>predictions.csv file does not exist</td>\n",
       "    </tr>\n",
       "    <tr>\n",
       "      <th>28</th>\n",
       "      <td>SandeepKogge-Team</td>\n",
       "      <td>predictions.csv file does not exist</td>\n",
       "    </tr>\n",
       "    <tr>\n",
       "      <th>29</th>\n",
       "      <td>R.A.S.A.</td>\n",
       "      <td>predictions.csv file does not exist</td>\n",
       "    </tr>\n",
       "    <tr>\n",
       "      <th>30</th>\n",
       "      <td>Arul-M-Team</td>\n",
       "      <td>predictions.csv file does not exist</td>\n",
       "    </tr>\n",
       "    <tr>\n",
       "      <th>31</th>\n",
       "      <td>Bharat_tmp</td>\n",
       "      <td>predictions.csv file does not exist</td>\n",
       "    </tr>\n",
       "  </tbody>\n",
       "</table>\n",
       "</div>"
      ],
      "text/plain": [
       "                         Team                                  MAE\n",
       "0                     DD-Team                    89.62179723477286\n",
       "1                 SukantaBasu                    93.73324490608064\n",
       "2                      esk.AI                    98.56940944274808\n",
       "3        Gaurav-Ghorpade-Team                     98.9550275155406\n",
       "4                    peaceHai                    98.96804747739692\n",
       "5                   alexandra                   100.62813957685279\n",
       "6                 DataWizards                   104.50636655889127\n",
       "7                         MCL                   105.61358912732464\n",
       "8              Bounty-the-cat                   106.38436001863967\n",
       "9      Santhosh-S-Sankar-Team                    107.2841485750636\n",
       "10              Sunspot-Squad                   115.16612737814278\n",
       "11       AbhayKshirsagar-Team                    115.8483559033079\n",
       "12             Akira.Insights                   116.21697977618678\n",
       "13                 Ashay-Team                   118.04573582697199\n",
       "14             Karthi-07Shell                   118.49774952671893\n",
       "15                      SUNNY                   135.79889547521194\n",
       "16  Ruchita-Varun-Ashish-Team                    140.9672551908397\n",
       "17                       ARSE                   154.68816631743005\n",
       "18                 Meson-Labs                    158.0494617996183\n",
       "19                  ViyatCast                   167.81323744026724\n",
       "20                        Neo                   192.56524692620872\n",
       "21              KrishnaKhadka                    213.9130211707717\n",
       "22                  DataDosth                   233.22117296437656\n",
       "23                    Aintium                   426.19356309049846\n",
       "24                       YNWA                    953.8120909580664\n",
       "25                    Vardhan  predictions.csv file does not exist\n",
       "26                 Tim_Wartel  predictions.csv file does not exist\n",
       "27          Team-ML-IITMadras  predictions.csv file does not exist\n",
       "28          SandeepKogge-Team  predictions.csv file does not exist\n",
       "29                   R.A.S.A.  predictions.csv file does not exist\n",
       "30                Arul-M-Team  predictions.csv file does not exist\n",
       "31                 Bharat_tmp  predictions.csv file does not exist"
      ]
     },
     "execution_count": 27,
     "metadata": {},
     "output_type": "execute_result"
    }
   ],
   "source": [
    "!{gdrive} download --path {data_path} -f {drive_public_leader_board_id} \n",
    "leader_board = pd.read_csv(public_leader_location)\n",
    "leader_board"
   ]
  }
 ],
 "metadata": {
  "colab": {
   "collapsed_sections": [],
   "name": "L2-ShellAI-Hackathon-2021.ipynb",
   "provenance": []
  },
  "kernelspec": {
   "display_name": "Python 3 (ipykernel)",
   "language": "python",
   "name": "python3"
  },
  "language_info": {
   "codemirror_mode": {
    "name": "ipython",
    "version": 3
   },
   "file_extension": ".py",
   "mimetype": "text/x-python",
   "name": "python",
   "nbconvert_exporter": "python",
   "pygments_lexer": "ipython3",
   "version": "3.8.10"
  }
 },
 "nbformat": 4,
 "nbformat_minor": 1
}
